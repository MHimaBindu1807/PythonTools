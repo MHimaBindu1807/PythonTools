{
 "cells": [
  {
   "cell_type": "code",
   "execution_count": 1,
   "id": "3f7b6944-c620-4482-828f-0ee476dadbfe",
   "metadata": {},
   "outputs": [
    {
     "name": "stdout",
     "output_type": "stream",
     "text": [
      "[1 2 3]\n",
      "<class 'numpy.ndarray'>\n"
     ]
    }
   ],
   "source": [
    "import numpy as np\n",
    " \n",
    "n = np.array((1, 2, 3))\n",
    "print(n)\n",
    "print(type(n))\n",
    " "
   ]
  },
  {
   "cell_type": "code",
   "execution_count": 2,
   "id": "975fe515-54f4-47e4-a6cc-c33411237fed",
   "metadata": {},
   "outputs": [
    {
     "name": "stdout",
     "output_type": "stream",
     "text": [
      "<class 'numpy.ndarray'>\n"
     ]
    }
   ],
   "source": [
    "import numpy as np\n",
    " \n",
    "n = np.array([1, 2, 3])\n",
    "print(type(n))\n",
    " "
   ]
  },
  {
   "cell_type": "code",
   "execution_count": 3,
   "id": "9d810324-026d-448b-94e9-196699cb642c",
   "metadata": {},
   "outputs": [
    {
     "name": "stdout",
     "output_type": "stream",
     "text": [
      "<class 'numpy.ndarray'>\n",
      "()\n",
      "Dimensions =  0\n"
     ]
    }
   ],
   "source": [
    "import numpy as np\n",
    " \n",
    "n = np.array(25)\n",
    "print(type(n))\n",
    "print(n.shape)\n",
    "print(\"Dimensions = \",n.ndim)"
   ]
  },
  {
   "cell_type": "code",
   "execution_count": 4,
   "id": "fe8bf063-d288-4d48-a499-e8e91b51c7b0",
   "metadata": {},
   "outputs": [
    {
     "name": "stdout",
     "output_type": "stream",
     "text": [
      "<class 'numpy.ndarray'>\n",
      "(3,)\n",
      "Dimensions =  1\n"
     ]
    }
   ],
   "source": [
    "import numpy as np\n",
    " \n",
    "n = np.array([10, 20, 30])\n",
    "print(type(n))\n",
    "print(n.shape)\n",
    "print(\"Dimensions = \",n.ndim)\n",
    " "
   ]
  },
  {
   "cell_type": "code",
   "execution_count": 5,
   "id": "8d46b86a-341f-4492-912b-beb213fec14b",
   "metadata": {},
   "outputs": [
    {
     "name": "stdout",
     "output_type": "stream",
     "text": [
      "<class 'numpy.ndarray'>\n",
      "(2, 3)\n",
      "Dimensions =  2\n"
     ]
    }
   ],
   "source": [
    "import numpy as np\n",
    " \n",
    "n = np.array([[1,3,5],[4,8,12]])\n",
    "print(type(n))\n",
    "print(n.shape)\n",
    "print(\"Dimensions = \",n.ndim)\n",
    " "
   ]
  },
  {
   "cell_type": "code",
   "execution_count": 6,
   "id": "99494539-b986-4a35-aa7f-e55749254d9b",
   "metadata": {},
   "outputs": [
    {
     "name": "stdout",
     "output_type": "stream",
     "text": [
      "[[0. 0. 0.]\n",
      " [0. 0. 0.]]\n",
      "<class 'numpy.ndarray'>\n"
     ]
    }
   ],
   "source": [
    "import numpy as np\n",
    " \n",
    "n = np.zeros([2, 3])\n",
    "print(n)\n",
    "print(type(n))"
   ]
  },
  {
   "cell_type": "code",
   "execution_count": 7,
   "id": "94152a45-304a-467d-83af-f6f2318506b8",
   "metadata": {},
   "outputs": [
    {
     "name": "stdout",
     "output_type": "stream",
     "text": [
      "[[0. 0. 0. 0.]\n",
      " [0. 0. 0. 0.]\n",
      " [0. 0. 0. 0.]\n",
      " [0. 0. 0. 0.]]\n",
      "<class 'numpy.ndarray'>\n"
     ]
    }
   ],
   "source": [
    "import numpy as np\n",
    " \n",
    "n = np.zeros((4, 4))\n",
    "print(n)\n",
    "print(type(n))"
   ]
  },
  {
   "cell_type": "code",
   "execution_count": 8,
   "id": "f74947e7-b23a-4305-8d50-de9c0d44475d",
   "metadata": {},
   "outputs": [
    {
     "name": "stdout",
     "output_type": "stream",
     "text": [
      "int32\n"
     ]
    }
   ],
   "source": [
    "import numpy as np\n",
    " \n",
    "n = np.array([10, 20, 30])\n",
    "print(n.dtype)"
   ]
  },
  {
   "cell_type": "code",
   "execution_count": 9,
   "id": "d8d16089-9890-47ec-821c-c0fc58657ffc",
   "metadata": {},
   "outputs": [
    {
     "name": "stdout",
     "output_type": "stream",
     "text": [
      "<U6\n"
     ]
    }
   ],
   "source": [
    "import numpy as np\n",
    " \n",
    "n = np.array([\"amit\", \"rohit\", \"ashwin\", \"jadeja\", \"virat\"])\n",
    "print(n.dtype)\n",
    " "
   ]
  },
  {
   "cell_type": "code",
   "execution_count": 10,
   "id": "839914ea-8b18-4782-bd7b-e39609a4c3f2",
   "metadata": {},
   "outputs": [
    {
     "name": "stdout",
     "output_type": "stream",
     "text": [
      "|S5\n"
     ]
    }
   ],
   "source": [
    "import numpy as np\n",
    " \n",
    "n = np.array(['amit', 'rohit', 'ashwin', 'jadeja', 'virat'], dtype='S5')\n",
    "print(n.dtype)\n",
    " "
   ]
  },
  {
   "cell_type": "code",
   "execution_count": 11,
   "id": "b0cd68c6-4302-4928-bf86-cccfb71ab6b9",
   "metadata": {},
   "outputs": [
    {
     "name": "stdout",
     "output_type": "stream",
     "text": [
      "['10' '20' '30' '40' '50']\n",
      "<U2\n",
      "[10 20 30 40 50]\n",
      "int32\n"
     ]
    }
   ],
   "source": [
    "import numpy as np\n",
    " \n",
    "n = np.array(['10', '20', '30', '40', '50'])\n",
    "print(n)\n",
    "print(n.dtype)\n",
    " \n",
    "n2 = n.astype('i')\n",
    "print(n2)\n",
    "print(n2.dtype)"
   ]
  },
  {
   "cell_type": "code",
   "execution_count": 12,
   "id": "9a5d13a4-7b04-42c0-8650-f61f45a4c93c",
   "metadata": {},
   "outputs": [
    {
     "name": "stdout",
     "output_type": "stream",
     "text": [
      "10\n"
     ]
    }
   ],
   "source": [
    "import numpy as np\n",
    " \n",
    "n = np.array([10, 20, 30, 40, 50])\n",
    "print(n[0])\n",
    " "
   ]
  },
  {
   "cell_type": "code",
   "execution_count": 13,
   "id": "016ee1dd-d27a-4cdf-a2fd-f7c8393f6372",
   "metadata": {},
   "outputs": [
    {
     "name": "stdout",
     "output_type": "stream",
     "text": [
      "40\n"
     ]
    }
   ],
   "source": [
    "import numpy as np\n",
    " \n",
    "n = np.array([10, 20, 30, 40, 50])\n",
    "print(n[3])\n",
    " "
   ]
  },
  {
   "cell_type": "code",
   "execution_count": 14,
   "id": "c7a92a7d-c8ac-42bc-b3fd-6ba5078e9a83",
   "metadata": {},
   "outputs": [
    {
     "name": "stdout",
     "output_type": "stream",
     "text": [
      "1\n",
      "3\n",
      "5\n"
     ]
    }
   ],
   "source": [
    "import numpy as np\n",
    " \n",
    "n = np.array([[1,3,5],[4,8,12]])\n",
    " \n",
    "print(n[0,0])\n",
    "print(n[0,1])\n",
    "print(n[0,2])"
   ]
  },
  {
   "cell_type": "code",
   "execution_count": 15,
   "id": "34f6abd2-5849-4a68-9db8-c1a76ff992df",
   "metadata": {},
   "outputs": [
    {
     "name": "stdout",
     "output_type": "stream",
     "text": [
      "4\n",
      "8\n",
      "12\n"
     ]
    }
   ],
   "source": [
    "import numpy as np\n",
    " \n",
    "n = np.array([[1,3,5],[4,8,12]])\n",
    "print(n[1,0])\n",
    "print(n[1,1])\n",
    "print(n[1,2])"
   ]
  },
  {
   "cell_type": "code",
   "execution_count": 16,
   "id": "9ffed4c8-bce0-401b-9097-1e69ce0abdfd",
   "metadata": {},
   "outputs": [
    {
     "name": "stdout",
     "output_type": "stream",
     "text": [
      "5\n",
      "10\n",
      "15\n"
     ]
    }
   ],
   "source": [
    "import  numpy as np\n",
    " \n",
    "n = np.array([[[5,10,15],[20,25,30]],[[35,40,45],[50,55,60]]])\n",
    "print(n[0,0,0])\n",
    "print(n[0,0,1])\n",
    "print(n[0,0,2])\n",
    " "
   ]
  },
  {
   "cell_type": "code",
   "execution_count": 17,
   "id": "ed7679c8-a37c-4da7-a4e0-38a533d975f1",
   "metadata": {},
   "outputs": [
    {
     "name": "stdout",
     "output_type": "stream",
     "text": [
      "35\n",
      "40\n",
      "45\n"
     ]
    }
   ],
   "source": [
    "import numpy as np\n",
    " \n",
    "n = np.array([[[5,10,15],[20,25,30]],[[35,40,45],[50,55,60]]])\n",
    " \n",
    "print(n[1,0,0])\n",
    "print(n[1,0,1])\n",
    "print(n[1,0,2])\n",
    " "
   ]
  },
  {
   "cell_type": "code",
   "execution_count": 18,
   "id": "06eadd87-f0e3-48dd-802d-f66a10e617ce",
   "metadata": {},
   "outputs": [
    {
     "name": "stdout",
     "output_type": "stream",
     "text": [
      "Last element =  15\n"
     ]
    }
   ],
   "source": [
    "import numpy as np\n",
    " \n",
    "n = np.array([5, 10, 15])\n",
    "print('Last element = ', n[-1])\n",
    " "
   ]
  },
  {
   "cell_type": "code",
   "execution_count": 19,
   "id": "5b6970e4-cd42-48ba-8871-62fd6ab92154",
   "metadata": {},
   "outputs": [
    {
     "name": "stdout",
     "output_type": "stream",
     "text": [
      "Last element =  5\n"
     ]
    }
   ],
   "source": [
    "import numpy as np\n",
    " \n",
    "n = np.array([[1, 3, 5], [4, 8, 12]])\n",
    "print('Last element = ', n[0, -1])\n",
    " "
   ]
  },
  {
   "cell_type": "code",
   "execution_count": 20,
   "id": "f14bcd00-e81b-4f35-9651-b99be509f19d",
   "metadata": {},
   "outputs": [
    {
     "name": "stdout",
     "output_type": "stream",
     "text": [
      "Last element =  12\n"
     ]
    }
   ],
   "source": [
    "import numpy as np\n",
    " \n",
    "n = np.array([[1,3,5],[4,8,12]])\n",
    "print('Last element = ', n[1,-1])"
   ]
  },
  {
   "cell_type": "code",
   "execution_count": 21,
   "id": "efebd260-ba4e-42cd-a002-173d6b9813f6",
   "metadata": {},
   "outputs": [
    {
     "name": "stdout",
     "output_type": "stream",
     "text": [
      "[25 30]\n"
     ]
    }
   ],
   "source": [
    "import  numpy as np\n",
    " \n",
    "n = np.array([20, 25, 30, 35, 40, 45, 50, 55, 60, 65])\n",
    "print(n[1:3])"
   ]
  },
  {
   "cell_type": "code",
   "execution_count": 22,
   "id": "974d2602-ad41-4c16-8522-028040b15ec4",
   "metadata": {},
   "outputs": [
    {
     "name": "stdout",
     "output_type": "stream",
     "text": [
      "[30 35 40]\n"
     ]
    }
   ],
   "source": [
    "import numpy as np\n",
    " \n",
    "n = np.array([20, 25, 30, 35, 40, 45, 50, 55, 60, 65])\n",
    "print(n[2:5])\n",
    " "
   ]
  },
  {
   "cell_type": "code",
   "execution_count": 23,
   "id": "c73f8d25-2e4c-44b1-a693-2bd84d49a88d",
   "metadata": {},
   "outputs": [
    {
     "name": "stdout",
     "output_type": "stream",
     "text": [
      "[45 50 55 60 65]\n"
     ]
    }
   ],
   "source": [
    "import numpy as np\n",
    " \n",
    "n = np.array([20, 25, 30, 35, 40, 45, 50, 55, 60, 65])\n",
    "print(n[5:])"
   ]
  },
  {
   "cell_type": "code",
   "execution_count": 24,
   "id": "1d47295e-aff5-49cd-b045-5ff223ab4541",
   "metadata": {},
   "outputs": [
    {
     "name": "stdout",
     "output_type": "stream",
     "text": [
      "[20 25 30 35 40]\n"
     ]
    }
   ],
   "source": [
    "import numpy as np\n",
    " \n",
    "n = np.array([20, 25, 30, 35, 40, 45, 50, 55, 60, 65])\n",
    "print(n[:5])"
   ]
  },
  {
   "cell_type": "code",
   "execution_count": 25,
   "id": "4986265f-817e-44eb-b0a9-68737cb1e028",
   "metadata": {},
   "outputs": [
    {
     "name": "stdout",
     "output_type": "stream",
     "text": [
      "[10 20 30 40 50]\n"
     ]
    }
   ],
   "source": [
    "import numpy as np\n",
    " \n",
    "n = np.array([5, 10, 15, 20, 25, 30, 35, 40, 45, 50, 55, 60])\n",
    "print(n[1:10:2])"
   ]
  },
  {
   "cell_type": "code",
   "execution_count": 26,
   "id": "9a8f5e40-059d-4c67-ab49-39311d8ba527",
   "metadata": {},
   "outputs": [
    {
     "name": "stdout",
     "output_type": "stream",
     "text": [
      "[50 70 90]\n"
     ]
    }
   ],
   "source": [
    "import numpy as np\n",
    "   \n",
    "n = np.array([[10,30,50,70,90,95],[4,8,12,14,16,18]])\n",
    "print(n[0,2:5])\n",
    " "
   ]
  },
  {
   "cell_type": "code",
   "execution_count": 27,
   "id": "4dd21ae1-dd24-4ac4-a68d-cd2483a3ba10",
   "metadata": {},
   "outputs": [
    {
     "name": "stdout",
     "output_type": "stream",
     "text": [
      "[[50 70 90]\n",
      " [12 14 16]]\n"
     ]
    }
   ],
   "source": [
    "import numpy as np\n",
    " \n",
    "n = np.array([[10, 30, 50, 70, 90, 95], [4, 8, 12, 14, 16, 18]])\n",
    "print(n[0:2, 2:5])"
   ]
  },
  {
   "cell_type": "code",
   "execution_count": 29,
   "id": "ef00b92f-2909-4e1d-a6bd-a7eea097569c",
   "metadata": {},
   "outputs": [
    {
     "name": "stdout",
     "output_type": "stream",
     "text": [
      "10\n",
      "0\n",
      "()\n"
     ]
    }
   ],
   "source": [
    "import numpy as np\n",
    " \n",
    "n = np.array(10)\n",
    " \n",
    "print(n)\n",
    "print(n.ndim)\n",
    "print(n.shape)\n",
    " "
   ]
  },
  {
   "cell_type": "code",
   "execution_count": 30,
   "id": "7648f8f5-9c59-4b74-9b93-949cc8c67d99",
   "metadata": {},
   "outputs": [
    {
     "name": "stdout",
     "output_type": "stream",
     "text": [
      "[10 20 30]\n",
      "1\n",
      "(3,)\n"
     ]
    }
   ],
   "source": [
    "import numpy as np\n",
    " \n",
    "n = np.array([10, 20, 30])\n",
    " \n",
    "print(n)\n",
    "print(n.ndim)\n",
    "print(n.shape)\n",
    " "
   ]
  },
  {
   "cell_type": "code",
   "execution_count": 31,
   "id": "e28f3271-7dca-4e56-8f9c-4e9767a749c7",
   "metadata": {},
   "outputs": [
    {
     "name": "stdout",
     "output_type": "stream",
     "text": [
      "One-Dimensional Array =  [ 5 10 15 20 25 30]\n",
      "Reshaped array (Two-Dimensional) = \n",
      " [[ 5 10 15]\n",
      " [20 25 30]]\n"
     ]
    }
   ],
   "source": [
    "import numpy as np\n",
    " \n",
    "# Create a Numpy array\n",
    "n = np.array([5, 10, 15, 20, 25, 30])\n",
    "print(\"One-Dimensional Array = \",n)\n",
    " \n",
    "# Reshape the array\n",
    "resarr = n.reshape(2, 3)\n",
    " \n",
    "print(\"Reshaped array (Two-Dimensional) = \\n\",resarr)"
   ]
  },
  {
   "cell_type": "code",
   "execution_count": 32,
   "id": "ba9d7930-cfd1-4b41-8e6a-bfcf67dbc2aa",
   "metadata": {},
   "outputs": [
    {
     "name": "stdout",
     "output_type": "stream",
     "text": [
      "3D array = \n",
      "  [[[ 5 10 15]\n",
      "  [20 25 30]]\n",
      "\n",
      " [[35 40 45]\n",
      "  [50 55 60]]]\n",
      "\n",
      "Reshaped to 1D array =  [ 5 10 15 20 25 30 35 40 45 50 55 60]\n"
     ]
    }
   ],
   "source": [
    "import numpy as np\n",
    " \n",
    "# Create a 3D array\n",
    "n = np.array([[[5, 10, 15],[20, 25, 30]],[[35, 40, 45],[50, 55, 60]]])\n",
    "print(\"3D array = \\n \",n)\n",
    " \n",
    "# Reshape the array\n",
    "resarr = n.reshape(-1)\n",
    "print(\"\\nReshaped to 1D array = \",resarr)"
   ]
  },
  {
   "cell_type": "code",
   "execution_count": 33,
   "id": "ebf75c73-5c1a-4c06-82fe-fc3a80798a7c",
   "metadata": {},
   "outputs": [
    {
     "name": "stdout",
     "output_type": "stream",
     "text": [
      "One-Dimensional Array =  [ 5 10 15 20 25 30]\n",
      "Type =  <class 'numpy.ndarray'>\n",
      "DataType =  int32\n",
      "\n",
      "Iterating...\n",
      "5\n",
      "10\n",
      "15\n",
      "20\n",
      "25\n",
      "30\n"
     ]
    }
   ],
   "source": [
    "import numpy as np\n",
    " \n",
    "# Create a Numpy 1D array\n",
    "n = np.array([5, 10, 15, 20, 25, 30])\n",
    "print(\"One-Dimensional Array = \",n)\n",
    "print(\"Type = \",type(n))\n",
    "print(\"DataType = \",n.dtype)\n",
    " \n",
    "print(\"\\nIterating...\")\n",
    "for a in n:\n",
    "  print(a)"
   ]
  },
  {
   "cell_type": "code",
   "execution_count": 34,
   "id": "7af3b1c6-0a1a-4437-99d2-05b29c15e165",
   "metadata": {},
   "outputs": [
    {
     "name": "stdout",
     "output_type": "stream",
     "text": [
      "Two-Dimensional Array = \n",
      " [[ 5 10]\n",
      " [15 20]\n",
      " [25 30]]\n",
      "Type =  <class 'numpy.ndarray'>\n",
      "DataType =  int32\n",
      "\n",
      "Iterating...\n",
      "[ 5 10]\n",
      "[15 20]\n",
      "[25 30]\n"
     ]
    }
   ],
   "source": [
    "import numpy as np\n",
    " \n",
    "# Create a Numpy 2D array\n",
    "n = np.array([[5, 10], [15, 20], [25, 30]])\n",
    "print(\"Two-Dimensional Array = \\n\", n)\n",
    "print(\"Type = \", type(n))\n",
    "print(\"DataType = \", n.dtype)\n",
    " \n",
    "print(\"\\nIterating...\")\n",
    "for a in n:\n",
    "    print(a)\n",
    " "
   ]
  },
  {
   "cell_type": "code",
   "execution_count": 35,
   "id": "e37e307b-b72e-482a-9c4e-b8f3b2771bed",
   "metadata": {},
   "outputs": [
    {
     "name": "stdout",
     "output_type": "stream",
     "text": [
      "Three-Dimensional Array = \n",
      " [[[ 5 10]\n",
      "  [15 20]]\n",
      "\n",
      " [[25 30]\n",
      "  [35 40]]]\n",
      "Dimensions =  3\n",
      "Type =  <class 'numpy.ndarray'>\n",
      "DataType =  int32\n",
      "\n",
      "Iterating...\n",
      "Each matrix (2D)=\n",
      "[[ 5 10]\n",
      " [15 20]]\n",
      "Each matrix (2D)=\n",
      "[[25 30]\n",
      " [35 40]]\n"
     ]
    }
   ],
   "source": [
    "import numpy as np\n",
    " \n",
    "# Create a Numpy 3D array\n",
    "n = np.array([[[5, 10], [15, 20]], [[25, 30], [35, 40]]])\n",
    "print(\"Three-Dimensional Array = \\n\",n)\n",
    "print(\"Dimensions = \",n.ndim)\n",
    "print(\"Type = \",type(n))\n",
    "print(\"DataType = \",n.dtype)\n",
    " \n",
    "print(\"\\nIterating...\")\n",
    "for a in n:\n",
    "  print(\"Each matrix (2D)=\")\n",
    "  print(a)"
   ]
  },
  {
   "cell_type": "code",
   "execution_count": 36,
   "id": "ac2fb35b-2646-4807-b4b3-e3599bc3238d",
   "metadata": {},
   "outputs": [
    {
     "name": "stdout",
     "output_type": "stream",
     "text": [
      "Iterating array1...\n",
      "5\n",
      "10\n",
      "15\n",
      "20\n",
      "\n",
      "Iterating array2...\n",
      "25\n",
      "30\n",
      "35\n",
      "40\n",
      "\n",
      "After Joining =  [ 5 10 15 20 25 30 35 40]\n"
     ]
    }
   ],
   "source": [
    "import numpy as np\n",
    " \n",
    "# Create two arrays\n",
    "n1 = np.array([5, 10, 15, 20])\n",
    "n2 = np.array([25, 30, 35, 40])\n",
    " \n",
    "print(\"Iterating array1...\")\n",
    "for a in n1:\n",
    "    print(a)\n",
    " \n",
    "print(\"\\nIterating array2...\")\n",
    "for a in n2:\n",
    "    print(a)\n",
    " \n",
    "# Joining arrays\n",
    "resarr = np.concatenate((n1, n2))\n",
    "print(\"\\nAfter Joining = \", resarr)\n",
    " "
   ]
  },
  {
   "cell_type": "code",
   "execution_count": 37,
   "id": "f4193b11-70ee-43e3-b280-e88d946aa583",
   "metadata": {},
   "outputs": [
    {
     "name": "stdout",
     "output_type": "stream",
     "text": [
      "Iterating array1...\n",
      "5\n",
      "10\n",
      "15\n",
      "20\n",
      "\n",
      "Iterating array2...\n",
      "25\n",
      "30\n",
      "35\n",
      "40\n",
      "\n",
      "After Joining = \n",
      " [[ 5 10 15 20]\n",
      " [25 30 35 40]]\n"
     ]
    }
   ],
   "source": [
    "import numpy as np\n",
    " \n",
    "# Create numpy arrays\n",
    "n1 = np.array([5, 10, 15, 20])\n",
    "n2 = np.array([25, 30, 35, 40])\n",
    " \n",
    "print(\"Iterating array1...\")\n",
    "for a in n1:\n",
    "    print(a)\n",
    " \n",
    "print(\"\\nIterating array2...\")\n",
    "for a in n2:\n",
    "    print(a)\n",
    " \n",
    "# Join arrays using numpy.stack()\n",
    "resarr = np.stack((n1, n2))\n",
    "print(\"\\nAfter Joining = \\n\", resarr)"
   ]
  },
  {
   "cell_type": "code",
   "execution_count": 38,
   "id": "3aa5aa1a-03d9-40c9-b299-feccc1c317f6",
   "metadata": {},
   "outputs": [
    {
     "name": "stdout",
     "output_type": "stream",
     "text": [
      "Iterating array1...\n",
      "5\n",
      "10\n",
      "15\n",
      "20\n",
      "\n",
      "Iterating array2...\n",
      "25\n",
      "30\n",
      "35\n",
      "40\n",
      "\n",
      "After Joining along rows = \n",
      " [ 5 10 15 20 25 30 35 40]\n"
     ]
    }
   ],
   "source": [
    "import numpy as np\n",
    " \n",
    "# Create two arrays\n",
    "n1 = np.array([5, 10, 15, 20])\n",
    "n2 = np.array([25, 30, 35, 40])\n",
    " \n",
    "print(\"Iterating array1...\")\n",
    "for a in n1:\n",
    "    print(a)\n",
    " \n",
    "print(\"\\nIterating array2...\")\n",
    "for a in n2:\n",
    "    print(a)\n",
    " \n",
    "# Join arrays using the hstack()\n",
    "resarr = np.hstack((n1, n2))\n",
    "print(\"\\nAfter Joining along rows = \\n\", resarr)"
   ]
  },
  {
   "cell_type": "code",
   "execution_count": 39,
   "id": "6156e3b7-ceb4-4980-8015-e21e808421b2",
   "metadata": {},
   "outputs": [
    {
     "name": "stdout",
     "output_type": "stream",
     "text": [
      "Iterating array1...\n",
      "5\n",
      "10\n",
      "15\n",
      "20\n",
      "\n",
      "Iterating array2...\n",
      "25\n",
      "30\n",
      "35\n",
      "40\n",
      "\n",
      "After Joining along columns = \n",
      " [[ 5 10 15 20]\n",
      " [25 30 35 40]]\n"
     ]
    }
   ],
   "source": [
    "import numpy as np\n",
    " \n",
    "# Create two arrays\n",
    "n1 = np.array([5, 10, 15, 20])\n",
    "n2 = np.array([25, 30, 35, 40])\n",
    " \n",
    "print(\"Iterating array1...\")\n",
    "for a in n1:\n",
    "    print(a)\n",
    " \n",
    "print(\"\\nIterating array2...\")\n",
    "for a in n2:\n",
    "    print(a)\n",
    " \n",
    "# Join arrays\n",
    "resarr = np.vstack((n1, n2))\n",
    "print(\"\\nAfter Joining along columns = \\n\", resarr)"
   ]
  },
  {
   "cell_type": "code",
   "execution_count": 40,
   "id": "08a9237d-69a3-4e88-871e-d65030681da6",
   "metadata": {},
   "outputs": [
    {
     "name": "stdout",
     "output_type": "stream",
     "text": [
      "Iterating array1...\n",
      "5\n",
      "10\n",
      "15\n",
      "20\n",
      "\n",
      "Iterating array2...\n",
      "25\n",
      "30\n",
      "35\n",
      "40\n",
      "\n",
      "After Joining along height = \n",
      " [[[ 5 25]\n",
      "  [10 30]\n",
      "  [15 35]\n",
      "  [20 40]]]\n"
     ]
    }
   ],
   "source": [
    "import numpy as np\n",
    " \n",
    "# Create two arrays\n",
    "n1 = np.array([5, 10, 15, 20])\n",
    "n2 = np.array([25, 30, 35, 40])\n",
    " \n",
    "print(\"Iterating array1...\")\n",
    "for a in n1:\n",
    "    print(a)\n",
    " \n",
    "print(\"\\nIterating array2...\")\n",
    "for a in n2:\n",
    "    print(a)\n",
    " \n",
    "# Join arrays\n",
    "resarr = np.dstack((n1, n2))\n",
    "print(\"\\nAfter Joining along height = \\n\", resarr)"
   ]
  },
  {
   "cell_type": "code",
   "execution_count": 41,
   "id": "434d3194-ad68-4423-bf41-7d1229994188",
   "metadata": {},
   "outputs": [
    {
     "name": "stdout",
     "output_type": "stream",
     "text": [
      "Iterating array1...\n",
      "5\n",
      "10\n",
      "15\n",
      "20\n",
      "\n",
      "Iterating array2...\n",
      "25\n",
      "30\n",
      "35\n",
      "40\n",
      "\n",
      "After Joining = \n",
      " [[ 5 25]\n",
      " [10 30]\n",
      " [15 35]\n",
      " [20 40]]\n"
     ]
    }
   ],
   "source": [
    "# Create two arrays\n",
    "n1 = np.array([5, 10, 15, 20])\n",
    "n2 = np.array([25, 30, 35, 40])\n",
    " \n",
    "print(\"Iterating array1...\")\n",
    "for a in n1:\n",
    "    print(a)\n",
    " \n",
    "print(\"\\nIterating array2...\")\n",
    "for a in n2:\n",
    "    print(a)\n",
    " \n",
    "# Join arrays\n",
    "resarr = np.column_stack((n1, n2))\n",
    "print(\"\\nAfter Joining = \\n\", resarr)"
   ]
  },
  {
   "cell_type": "code",
   "execution_count": 42,
   "id": "2ca985dd-6fa2-4e7b-a402-0a258233805f",
   "metadata": {},
   "outputs": [
    {
     "name": "stdout",
     "output_type": "stream",
     "text": [
      "Iterating array...\n",
      "10\n",
      "20\n",
      "30\n",
      "40\n",
      "50\n",
      "60\n",
      "\n",
      "Array after splitting i.e. returns 2 arrays\n",
      "[10 20 30]\n",
      "[40 50 60]\n"
     ]
    }
   ],
   "source": [
    "import numpy as np\n",
    " \n",
    "# Create a Numpy array\n",
    "n = np.array([10, 20, 30, 40, 50, 60])\n",
    " \n",
    "print(\"Iterating array...\")\n",
    "for a in n:\n",
    "    print(a)\n",
    " \n",
    "# splitting array into 2\n",
    "resarr = np.array_split(n, 2)\n",
    " \n",
    "print(\"\\nArray after splitting i.e. returns 2 arrays\");\n",
    "for a in resarr:\n",
    "    print(a)"
   ]
  },
  {
   "cell_type": "code",
   "execution_count": 43,
   "id": "d0dd0292-9116-4782-8f8e-30ddaa07c4ce",
   "metadata": {},
   "outputs": [
    {
     "name": "stdout",
     "output_type": "stream",
     "text": [
      "Iterating array...\n",
      "10\n",
      "20\n",
      "30\n",
      "40\n",
      "50\n",
      "60\n",
      "\n",
      "Array after splitting i.e. returns 2 arrays\n",
      "[array([10, 20, 30]), array([40, 50, 60])]\n",
      "\n",
      "Access splitted array individually...\n",
      "Array1 =  [10 20 30]\n",
      "Array2 =  [40 50 60]\n"
     ]
    }
   ],
   "source": [
    "import numpy as np\n",
    " \n",
    "n = np.array([10, 20, 30, 40, 50, 60])\n",
    " \n",
    "print(\"Iterating array...\")\n",
    "for a in n:\n",
    "  print(a)\n",
    " \n",
    "# splitting into 2\n",
    "resarr = np.array_split(n, 2)\n",
    " \n",
    "print(\"\\nArray after splitting i.e. returns 2 arrays\");\n",
    "print(resarr)\n",
    " \n",
    "print(\"\\nAccess splitted array individually...\");\n",
    "print(\"Array1 = \",resarr[0])\n",
    "print(\"Array2 = \",resarr[1])"
   ]
  },
  {
   "cell_type": "code",
   "execution_count": 44,
   "id": "97380633-4abb-43c8-862f-532dcf446dd7",
   "metadata": {},
   "outputs": [
    {
     "name": "stdout",
     "output_type": "stream",
     "text": [
      "Iterating array...\n",
      "[1 3 5]\n",
      "[ 4  8 12]\n",
      "\n",
      "Array after splitting (returns 2 arrays)\n",
      "[array([[1, 3, 5]]), array([[ 4,  8, 12]])]\n",
      "\n",
      "Access splitted array individually...\n",
      "Array1 =  [[1 3 5]]\n",
      "Array2 =  [[ 4  8 12]]\n"
     ]
    }
   ],
   "source": [
    "import  numpy as np\n",
    " \n",
    "n = np.array([[1,3,5],[4,8,12]])\n",
    " \n",
    "print(\"Iterating array...\")\n",
    "for a in n:\n",
    " print(a)\n",
    " \n",
    "# splitting into 2\n",
    "resarr = np.array_split(n, 2)\n",
    " \n",
    "print(\"\\nArray after splitting (returns 2 arrays)\");\n",
    "print(resarr)\n",
    " \n",
    "print(\"\\nAccess splitted array individually...\");\n",
    "print(\"Array1 = \",resarr[0])\n",
    "print(\"Array2 = \",resarr[1])\n",
    " "
   ]
  },
  {
   "cell_type": "code",
   "execution_count": 45,
   "id": "ee3801a3-b2e1-4370-a89a-30e5b4603ef1",
   "metadata": {},
   "outputs": [
    {
     "name": "stdout",
     "output_type": "stream",
     "text": [
      "Iterating array...\n",
      "10\n",
      "20\n",
      "30\n",
      "40\n",
      "50\n",
      "30\n",
      "\n",
      "Element 30 found at following indexes:\n",
      "(array([2, 5], dtype=int64),)\n"
     ]
    }
   ],
   "source": [
    "import numpy as np\n",
    " \n",
    "# Create a Numpy Array\n",
    "n = np.array([10, 20, 30, 40, 50, 30])\n",
    " \n",
    "print(\"Iterating array...\")\n",
    "for a in n:\n",
    "    print(a)\n",
    " \n",
    "# Searching a specific value 30\n",
    "res = np.where(n == 30)\n",
    " \n",
    "print(\"\\nElement 30 found at following indexes:\")\n",
    "print(res)"
   ]
  },
  {
   "cell_type": "code",
   "execution_count": 46,
   "id": "f11c60a3-e4e7-43e2-8ce8-c8bbb3e9f4c9",
   "metadata": {},
   "outputs": [
    {
     "name": "stdout",
     "output_type": "stream",
     "text": [
      "Iterating array...\n",
      "50\n",
      "25\n",
      "35\n",
      "15\n",
      "55\n",
      "75\n",
      "65\n",
      "60\n",
      "30\n",
      "45\n",
      "\n",
      "Sorted array =  [15 25 30 35 45 50 55 60 65 75]\n"
     ]
    }
   ],
   "source": [
    "import numpy as np\n",
    " \n",
    "# Create a 1D integer array\n",
    "n = np.array([50, 25, 35, 15, 55, 75, 65, 60, 30, 45])\n",
    " \n",
    "print(\"Iterating array...\")\n",
    "for a in n:\n",
    "    print(a)\n",
    " \n",
    "# Sort the array using the sort() method\n",
    "print(\"\\nSorted array = \", np.sort(n))\n",
    " "
   ]
  },
  {
   "cell_type": "code",
   "execution_count": 47,
   "id": "cce1f98b-290a-492f-b09e-220bc71af107",
   "metadata": {},
   "outputs": [
    {
     "name": "stdout",
     "output_type": "stream",
     "text": [
      "Iterating array...\n",
      "java\n",
      "keras\n",
      "android\n",
      "express\n",
      "jquery\n",
      "\n",
      "Sorted array =  ['android' 'express' 'java' 'jquery' 'keras']\n"
     ]
    }
   ],
   "source": [
    "import numpy as np\n",
    " \n",
    "# Create a Numpy strungs array\n",
    "n = np.array(['java', 'keras', 'android', 'express', 'jquery'])\n",
    " \n",
    "print(\"Iterating array...\")\n",
    "for a in n:\n",
    "    print(a)\n",
    " \n",
    "# Sort the array\n",
    "print(\"\\nSorted array = \", np.sort(n))"
   ]
  },
  {
   "cell_type": "code",
   "execution_count": 48,
   "id": "6449fa1f-143a-426b-a728-728e490a1027",
   "metadata": {},
   "outputs": [
    {
     "name": "stdout",
     "output_type": "stream",
     "text": [
      "Iterating 2D array...\n",
      "[5 3 7 9 6]\n",
      "[15 25 13 20 12]\n",
      "\n",
      "Sorted 2D array =\n",
      "  [[ 3  5  6  7  9]\n",
      " [12 13 15 20 25]]\n"
     ]
    }
   ],
   "source": [
    "import numpy as np\n",
    " \n",
    "# Create Numpy 2d array\n",
    "n = np.array([[5, 3, 7, 9, 6], [15, 25, 13, 20, 12]])\n",
    " \n",
    "print(\"Iterating 2D array...\")\n",
    "for a in n:\n",
    "    print(a)\n",
    " \n",
    "# Sort the array\n",
    "print(\"\\nSorted 2D array =\\n \", np.sort(n))\n",
    " "
   ]
  },
  {
   "cell_type": "code",
   "execution_count": 49,
   "id": "b45aec24-7261-4a8e-b48c-242da270b6d9",
   "metadata": {},
   "outputs": [
    {
     "name": "stdout",
     "output_type": "stream",
     "text": [
      "Iterating 2D array...\n",
      "[2 5 7 9 6]\n",
      "[15 25 35 45 55]\n",
      "[100 200 300 400 500]\n",
      "\n",
      "Minimum value =  2\n",
      "\n",
      "Minimum value with axis 0 (vertical axes) =  [2 5 7 9 6]\n",
      "\n",
      "Minimum value with axis 1 (horizontal axes) =  [  2  15 100]\n"
     ]
    }
   ],
   "source": [
    "import numpy as np\n",
    " \n",
    "# Create a numpy 3x5 array\n",
    "n = np.array([[2, 5, 7, 9, 6], [15, 25, 35, 45, 55], [100, 200, 300, 400, 500]])\n",
    " \n",
    "print(\"Iterating 2D array...\")\n",
    "for a in n:\n",
    "    print(a)\n",
    " \n",
    "print(\"\\nMinimum value = \", n.min())\n",
    "print(\"\\nMinimum value with axis 0 (vertical axes) = \", n.min(axis=0))\n",
    "print(\"\\nMinimum value with axis 1 (horizontal axes) = \", n.min(axis=1))\n",
    " "
   ]
  },
  {
   "cell_type": "code",
   "execution_count": 50,
   "id": "01c41df6-5558-4cd7-ba72-c200a8caf23b",
   "metadata": {},
   "outputs": [
    {
     "name": "stdout",
     "output_type": "stream",
     "text": [
      "Iterating array1...\n",
      "5\n",
      "10\n",
      "15\n",
      "20\n",
      "\n",
      "Iterating array2...\n",
      "5\n",
      "15\n",
      "30\n",
      "40\n",
      "\n",
      "Intersection = \n",
      " [ 5 15]\n"
     ]
    }
   ],
   "source": [
    "import numpy as np\n",
    " \n",
    "# Create two arrays\n",
    "n1 = np.array([5, 10, 15, 20])\n",
    "n2 = np.array([5, 15, 30, 40])\n",
    " \n",
    "print(\"Iterating array1...\")\n",
    "for a in n1:\n",
    "    print(a)\n",
    " \n",
    "print(\"\\nIterating array2...\")\n",
    "for a in n2:\n",
    "    print(a)\n",
    " \n",
    "# Find intersection using the intersect1d() method\n",
    "resarr = np.intersect1d(n1, n2)\n",
    "print(\"\\nIntersection = \\n\", resarr)"
   ]
  },
  {
   "cell_type": "code",
   "execution_count": 51,
   "id": "79d9ef51-e0b2-4d56-a8be-f347dc9718c1",
   "metadata": {},
   "outputs": [
    {
     "name": "stdout",
     "output_type": "stream",
     "text": [
      "Iterating array1...\n",
      "10\n",
      "50\n",
      "30\n",
      "20\n",
      "60\n",
      "40\n",
      "\n",
      "Iterating array2...\n",
      "80\n",
      "50\n",
      "90\n",
      "100\n",
      "40\n",
      "70\n",
      "\n",
      "Intersection (sorted result) = \n",
      " [40 50]\n"
     ]
    }
   ],
   "source": [
    "import numpy as np\n",
    " \n",
    "# Create two arrays\n",
    "n1 = np.array([10, 50, 30, 20, 60, 40])\n",
    "n2 = np.array([80, 50, 90, 100, 40, 70])\n",
    " \n",
    "print(\"Iterating array1...\")\n",
    "for a in n1:\n",
    "    print(a)\n",
    " \n",
    "print(\"\\nIterating array2...\")\n",
    "for a in n2:\n",
    "    print(a)\n",
    " \n",
    "# Find the intersection\n",
    "resarr = np.intersect1d(n1, n2)\n",
    "print(\"\\nIntersection (sorted result) = \\n\", resarr)"
   ]
  },
  {
   "cell_type": "code",
   "execution_count": 52,
   "id": "504ebef5-f904-40c6-8c9c-ea59e3bee6ad",
   "metadata": {},
   "outputs": [
    {
     "name": "stdout",
     "output_type": "stream",
     "text": [
      "Iterating array1...\n",
      "10\n",
      "20\n",
      "30\n",
      "40\n",
      "50\n",
      "\n",
      "Iterating array2...\n",
      "60\n",
      "70\n",
      "80\n",
      "90\n",
      "100\n",
      "\n",
      "Intersection (different elements) = \n",
      " []\n"
     ]
    }
   ],
   "source": [
    "import  numpy as np\n",
    " \n",
    "# Create two arrays\n",
    "n1 = np.array([10, 20, 30, 40, 50])\n",
    "n2 = np.array([60, 70, 80, 90, 100])\n",
    " \n",
    "print(\"Iterating array1...\")\n",
    "for a in n1:\n",
    "    print(a)\n",
    " \n",
    "print(\"\\nIterating array2...\")\n",
    "for a in n2:\n",
    "    print(a)\n",
    " \n",
    "# Find the intersection\n",
    "resarr = np.intersect1d(n1, n2)\n",
    "print(\"\\nIntersection (different elements) = \\n\", resarr)"
   ]
  },
  {
   "cell_type": "code",
   "execution_count": 53,
   "id": "698a094c-d6b6-4194-8e26-9a028bda8a0b",
   "metadata": {},
   "outputs": [
    {
     "name": "stdout",
     "output_type": "stream",
     "text": [
      "Iterating array1...\n",
      "5\n",
      "10\n",
      "15\n",
      "20\n",
      "25\n",
      "30\n",
      "35\n",
      "40\n",
      "45\n",
      "50\n",
      "\n",
      "Iterating array2...\n",
      "30\n",
      "35\n",
      "50\n",
      "55\n",
      "60\n",
      "65\n",
      "75\n",
      "85\n",
      "95\n",
      "100\n",
      "\n",
      "Difference = \n",
      " [ 5 10 15 20 25 40 45]\n"
     ]
    }
   ],
   "source": [
    "import numpy as np\n",
    " \n",
    "# Create two arrays\n",
    "n1 = np.array([5, 10, 15, 20, 25, 30, 35, 40, 45, 50])\n",
    "n2 = np.array([30, 35, 50, 55, 60, 65, 75, 85, 95, 100])\n",
    " \n",
    "print(\"Iterating array1...\")\n",
    "for a in n1:\n",
    "    print(a)\n",
    " \n",
    "print(\"\\nIterating array2...\")\n",
    "for a in n2:\n",
    "    print(a)\n",
    " \n",
    "# n1 - n2\n",
    "diffarr = np.setdiff1d(n1, n2)\n",
    "print(\"\\nDifference = \\n\", diffarr)\n",
    " "
   ]
  },
  {
   "cell_type": "code",
   "execution_count": 54,
   "id": "f19eb5f9-09e4-48dd-8188-e2e51033dc4b",
   "metadata": {},
   "outputs": [
    {
     "name": "stdout",
     "output_type": "stream",
     "text": [
      "Iterating array1...\n",
      "5\n",
      "10\n",
      "15\n",
      "20\n",
      "25\n",
      "30\n",
      "35\n",
      "40\n",
      "45\n",
      "50\n",
      "\n",
      "Iterating array2...\n",
      "30\n",
      "35\n",
      "50\n",
      "55\n",
      "60\n",
      "65\n",
      "75\n",
      "85\n",
      "95\n",
      "100\n",
      "\n",
      "Difference = \n",
      " [ 55  60  65  75  85  95 100]\n"
     ]
    }
   ],
   "source": [
    "import numpy as np\n",
    " \n",
    "# Create two arrays\n",
    "n1 = np.array([5, 10, 15, 20, 25, 30, 35, 40, 45, 50])\n",
    "n2 = np.array([30, 35, 50, 55, 60, 65, 75, 85, 95, 100])\n",
    " \n",
    "print(\"Iterating array1...\")\n",
    "for a in n1:\n",
    "    print(a)\n",
    " \n",
    "print(\"\\nIterating array2...\")\n",
    "for a in n2:\n",
    "    print(a)\n",
    " \n",
    "# Get the difference \n",
    "resarr = np.setdiff1d(n2, n1)\n",
    "print(\"\\nDifference = \\n\", resarr)"
   ]
  },
  {
   "cell_type": "code",
   "execution_count": 55,
   "id": "884b1d60-52ae-4e83-b6f5-2fff21a71b1b",
   "metadata": {},
   "outputs": [
    {
     "name": "stdout",
     "output_type": "stream",
     "text": [
      "Array1 = [15 20 25 30]\n",
      "Array2 = [65 75 85 95]\n",
      "Sum =  410\n"
     ]
    }
   ],
   "source": [
    "import numpy as np\n",
    " \n",
    "# Create arrays\n",
    "n1 = np.array([15, 20, 25, 30])\n",
    "n2 = np.array([65, 75, 85, 95])\n",
    " \n",
    "print(\"Array1 =\", n1)\n",
    "print(\"Array2 =\", n2)\n",
    " \n",
    "# Add the arrays elements\n",
    "resarr = np.sum([n1, n2])\n",
    "print(\"Sum = \", resarr)\n",
    " "
   ]
  },
  {
   "cell_type": "code",
   "execution_count": 56,
   "id": "12b032be-eee5-4d80-8424-636653bb2038",
   "metadata": {},
   "outputs": [
    {
     "name": "stdout",
     "output_type": "stream",
     "text": [
      "Array1 = [15 20 25 30]\n",
      "Array2 = [65 75 85 95]\n",
      "Sum =  [ 80  95 110 125]\n"
     ]
    }
   ],
   "source": [
    "import numpy as np\n",
    " \n",
    "# Create two arrays\n",
    "n1 = np.array([15, 20, 25, 30])\n",
    "n2 = np.array([65, 75, 85, 95])\n",
    " \n",
    "print(\"Array1 =\", n1)\n",
    "print(\"Array2 =\", n2)\n",
    " \n",
    "# Add column values using axis parameter\n",
    "resarr = np.sum([n1, n2], axis=0)\n",
    "print(\"Sum = \", resarr)"
   ]
  },
  {
   "cell_type": "code",
   "execution_count": 57,
   "id": "8b36557b-a913-43ab-82b4-5470df9c43f2",
   "metadata": {},
   "outputs": [
    {
     "name": "stdout",
     "output_type": "stream",
     "text": [
      "Array1 = [15 20 25 30]\n",
      "Array2 = [65 75 85 95]\n",
      "Sum result=  [ 90 320]\n"
     ]
    }
   ],
   "source": [
    "import numpy as np\n",
    " \n",
    "# Create two arrays\n",
    "n1 = np.array([15, 20, 25, 30])\n",
    "n2 = np.array([65, 75, 85, 95])\n",
    " \n",
    "print(\"Array1 =\", n1)\n",
    "print(\"Array2 =\", n2)\n",
    " \n",
    "# Add individual array values using axis parameter\n",
    "resarr = np.sum([n1, n2], axis=1)\n",
    "print(\"Sum result= \", resarr)"
   ]
  },
  {
   "cell_type": "code",
   "execution_count": 58,
   "id": "5c31173e-5c46-45be-86a3-6a2824bb7f8c",
   "metadata": {},
   "outputs": [
    {
     "name": "stdout",
     "output_type": "stream",
     "text": [
      "Array1 = [15 20 25 30]\n",
      "Array2 = [65 75 85 95]\n",
      "Subtraction result =  [-50 -55 -60 -65]\n"
     ]
    }
   ],
   "source": [
    "import numpy as np\n",
    " \n",
    "# Create two arrays\n",
    "n1 = np.array([15, 20, 25, 30])\n",
    "n2 = np.array([65, 75, 85, 95])\n",
    " \n",
    "print(\"Array1 =\", n1)\n",
    "print(\"Array2 =\", n2)\n",
    " \n",
    "# Subtract Numpy arrays\n",
    "resarr = np.subtract(n1, n2)\n",
    "print(\"Subtraction result = \", resarr)\n",
    " "
   ]
  },
  {
   "cell_type": "code",
   "execution_count": 59,
   "id": "4f79be59-3b47-4277-a646-2ec2901d6250",
   "metadata": {},
   "outputs": [
    {
     "name": "stdout",
     "output_type": "stream",
     "text": [
      "Array1 = [15 20 25 30]\n",
      "Array2 = [65 75 85 95]\n",
      "Multiplication result =  [ 975 1500 2125 2850]\n"
     ]
    }
   ],
   "source": [
    "import numpy as np\n",
    " \n",
    "# Create Numpy arrays\n",
    "n1 = np.array([15, 20, 25, 30])\n",
    "n2 = np.array([65, 75, 85, 95])\n",
    " \n",
    "print(\"Array1 =\", n1)\n",
    "print(\"Array2 =\", n2)\n",
    " \n",
    "# Multiply Numpy arrays\n",
    "resarr = np.multiply(n1, n2)\n",
    "print(\"Multiplication result = \", resarr)"
   ]
  },
  {
   "cell_type": "code",
   "execution_count": 60,
   "id": "e8206910-76ad-4e43-a906-a0f66c463233",
   "metadata": {},
   "outputs": [
    {
     "name": "stdout",
     "output_type": "stream",
     "text": [
      "Array1 = [15 20 25 30]\n",
      "Array2 = [65 75 85 95]\n",
      "Division Result =  [4.33333333 3.75       3.4        3.16666667]\n"
     ]
    }
   ],
   "source": [
    "import numpy as np\n",
    " \n",
    "# Create two Numpy arrays\n",
    "n1 = np.array([15, 20, 25, 30])\n",
    "n2 = np.array([65, 75, 85, 95])\n",
    " \n",
    "print(\"Array1 =\", n1)\n",
    "print(\"Array2 =\", n2)\n",
    " \n",
    "# Divide arrays\n",
    "resarr = np.divide(n2, n1)\n",
    "print(\"Division Result = \", resarr)"
   ]
  },
  {
   "cell_type": "code",
   "execution_count": 61,
   "id": "21ffdc72-dc7b-40e0-8917-50bc4c08c39a",
   "metadata": {},
   "outputs": [
    {
     "name": "stdout",
     "output_type": "stream",
     "text": [
      "Array1 = [15 20 25 30]\n",
      "Array2 = [65 75 85 95]\n",
      "Array1 (updated)  [25 30 35 40]\n",
      "Array2 (updated)  [ 85  95 105 115]\n"
     ]
    }
   ],
   "source": [
    "import numpy as np\n",
    " \n",
    "# Create two arrays\n",
    "n1 = np.array([15, 20, 25, 30])\n",
    "n2 = np.array([65, 75, 85, 95])\n",
    " \n",
    "print(\"Array1 =\", n1)\n",
    "print(\"Array2 =\", n2)\n",
    " \n",
    "# performing addition on each element\n",
    "n1 = n1 + 10;\n",
    "n2 = n2 + 20;\n",
    " \n",
    "print(\"Array1 (updated) \", n1)\n",
    "print(\"Array2 (updated) \", n2)"
   ]
  },
  {
   "cell_type": "code",
   "execution_count": 62,
   "id": "028f931a-1671-4255-929a-226e442acfd7",
   "metadata": {},
   "outputs": [
    {
     "name": "stdout",
     "output_type": "stream",
     "text": [
      "Array1 = [15 20 25 30]\n",
      "Array2 = [65 75 85 95]\n",
      "Array1 (updated)  [10 15 20 25]\n",
      "Array2 (updated)  [55 65 75 85]\n"
     ]
    }
   ],
   "source": [
    "import numpy as np\n",
    " \n",
    "# Create two Numpy arrays\n",
    "n1 = np.array([15, 20, 25, 30])\n",
    "n2 = np.array([65, 75, 85, 95])\n",
    " \n",
    "print(\"Array1 =\", n1)\n",
    "print(\"Array2 =\", n2)\n",
    " \n",
    "# performing subtraction on each element          \n",
    "n1 = n1 - 5;\n",
    "n2 = n2 - 10;\n",
    " \n",
    "print(\"Array1 (updated) \", n1)\n",
    "print(\"Array2 (updated) \", n2)\n",
    " "
   ]
  },
  {
   "cell_type": "code",
   "execution_count": 63,
   "id": "f8621000-52f5-4f2f-b69e-47cafd541044",
   "metadata": {},
   "outputs": [
    {
     "name": "stdout",
     "output_type": "stream",
     "text": [
      "Array1 = [15 20 25 30]\n",
      "Array2 = [65 75 85 95]\n",
      "Array1 (updated)  [ 75 100 125 150]\n",
      "Array2 (updated)  [650 750 850 950]\n"
     ]
    }
   ],
   "source": [
    "import numpy as np\n",
    " \n",
    "# Create two arrays\n",
    "n1 = np.array([15, 20, 25, 30])\n",
    "n2 = np.array([65, 75, 85, 95])\n",
    " \n",
    "print(\"Array1 =\", n1)\n",
    "print(\"Array2 =\", n2)\n",
    " \n",
    "# performing multiplication on each element          \n",
    "n1 = n1 * 5;\n",
    "n2 = n2 * 10;\n",
    " \n",
    "print(\"Array1 (updated) \", n1)\n",
    "print(\"Array2 (updated) \", n2)\n",
    " "
   ]
  },
  {
   "cell_type": "code",
   "execution_count": 64,
   "id": "b791d3b9-97c6-4ca0-9135-d4cadde49b44",
   "metadata": {},
   "outputs": [
    {
     "name": "stdout",
     "output_type": "stream",
     "text": [
      "Array1 = [15 20 25 30]\n",
      "Array2 = [65 75 85 95]\n",
      "Array1 (updated)  [3. 4. 5. 6.]\n",
      "Array2 (updated)  [13. 15. 17. 19.]\n"
     ]
    }
   ],
   "source": [
    "import  numpy as np\n",
    " \n",
    "# Create two arrays\n",
    "n1 = np.array([15, 20, 25, 30])\n",
    "n2 = np.array([65, 75, 85, 95])\n",
    " \n",
    "print(\"Array1 =\", n1)\n",
    "print(\"Array2 =\", n2)\n",
    " \n",
    "# performing division on each element\n",
    "n1 = n1 / 5;\n",
    "n2 = n2 / 5;\n",
    " \n",
    "print(\"Array1 (updated) \", n1)\n",
    "print(\"Array2 (updated) \", n2)\n",
    " "
   ]
  },
  {
   "cell_type": "code",
   "execution_count": 65,
   "id": "a8232d44-5ee1-46b5-ad5f-236ab25f3d4a",
   "metadata": {},
   "outputs": [
    {
     "name": "stdout",
     "output_type": "stream",
     "text": [
      "Array1 = [15 20 25 30]\n",
      "Array2 = [65 75 85 95]\n",
      "\n",
      "Array1 mean =  22.5\n",
      "Array2 mean =  80.0\n"
     ]
    }
   ],
   "source": [
    "import numpy as np\n",
    " \n",
    "# Create two arrays\n",
    "n1 = np.array([15, 20, 25, 30])\n",
    "n2 = np.array([65, 75, 85, 95])\n",
    " \n",
    "print(\"Array1 =\", n1)\n",
    "print(\"Array2 =\", n2)\n",
    " \n",
    "# mean\n",
    "resmean1 = np.mean(n1);\n",
    "resmean2 = np.mean(n2);\n",
    " \n",
    "print(\"\\nArray1 mean = \", resmean1)\n",
    "print(\"Array2 mean = \", resmean2)"
   ]
  },
  {
   "cell_type": "code",
   "execution_count": 66,
   "id": "67414cf9-268d-484f-8012-a37cdbb3b047",
   "metadata": {},
   "outputs": [
    {
     "name": "stdout",
     "output_type": "stream",
     "text": [
      "Array1 = [15 20 25 30]\n",
      "Array2 = [65 75 85 95]\n",
      "\n",
      "Array1 median =  22.5\n",
      "Array2 median =  80.0\n"
     ]
    }
   ],
   "source": [
    "import numpy as np\n",
    " \n",
    "# Create two arrays\n",
    "n1 = np.array([15, 20, 25, 30])\n",
    "n2 = np.array([65, 75, 85, 95])\n",
    " \n",
    "print(\"Array1 =\", n1)\n",
    "print(\"Array2 =\", n2)\n",
    " \n",
    "# median\n",
    "resmedian1 = np.median(n1);\n",
    "resmedian2 = np.median(n2);\n",
    " \n",
    "print(\"\\nArray1 median = \", resmedian1)\n",
    "print(\"Array2 median = \", resmedian2)"
   ]
  },
  {
   "cell_type": "code",
   "execution_count": 67,
   "id": "c9c474ed-f2f6-499b-9d69-a406b3bc82b0",
   "metadata": {},
   "outputs": [
    {
     "name": "stdout",
     "output_type": "stream",
     "text": [
      "Array1 = [15 20 25 30]\n",
      "Array2 = [65 75 85 95]\n",
      "\n",
      "Array1 Standard Deviation =  5.5901699437494745\n",
      "Array2 Standard Deviation =  11.180339887498949\n"
     ]
    }
   ],
   "source": [
    "import numpy as np\n",
    " \n",
    "# Create two arrays\n",
    "n1 = np.array([15, 20, 25, 30])\n",
    "n2 = np.array([65, 75, 85, 95])\n",
    " \n",
    "print(\"Array1 =\", n1)\n",
    "print(\"Array2 =\", n2)\n",
    " \n",
    "# standard deviation\n",
    "resstd1 = np.std(n1);\n",
    "resstd2 = np.std(n2);\n",
    " \n",
    "print(\"\\nArray1 Standard Deviation = \", resstd1)\n",
    "print(\"Array2 Standard Deviation = \", resstd2)\n",
    " "
   ]
  },
  {
   "cell_type": "code",
   "execution_count": 68,
   "id": "f461d139-2369-443e-9e64-8c0e105c096d",
   "metadata": {},
   "outputs": [
    {
     "name": "stdout",
     "output_type": "stream",
     "text": [
      "Random number=  0\n"
     ]
    }
   ],
   "source": [
    "from numpy import random\n",
    " \n",
    "# Get random number from 0 to 5\n",
    "n = random.randint(5)\n",
    " \n",
    "print(\"Random number= \",n)"
   ]
  },
  {
   "cell_type": "code",
   "execution_count": 69,
   "id": "40005c8f-df3a-45f3-a4f2-ca2755fe1906",
   "metadata": {},
   "outputs": [
    {
     "name": "stdout",
     "output_type": "stream",
     "text": [
      "Random number=  [0 2 3]\n"
     ]
    }
   ],
   "source": [
    "from numpy import random\n",
    " \n",
    "# get 3 random numbers as array elements from 0 to 10\n",
    "n = random.randint(10, size=(3))\n",
    " \n",
    "print(\"Random number= \",n)"
   ]
  },
  {
   "cell_type": "code",
   "execution_count": 70,
   "id": "c0ecf0d3-6d6f-45f9-961d-5105c2be6467",
   "metadata": {},
   "outputs": [
    {
     "name": "stdout",
     "output_type": "stream",
     "text": [
      "Random number=  30\n"
     ]
    }
   ],
   "source": [
    "from numpy import random\n",
    " \n",
    "# get a random number from the following array values\n",
    "n = random.choice([10, 20, 30, 40, 50, 60, 70, 80, 90, 100])\n",
    " \n",
    "print(\"Random number= \",n)"
   ]
  },
  {
   "cell_type": "code",
   "execution_count": 71,
   "id": "a0fdba91-9b41-4b16-a3a7-ee185adbd345",
   "metadata": {},
   "outputs": [
    {
     "name": "stdout",
     "output_type": "stream",
     "text": [
      "Array\n",
      " [1 2 3 4 5]\n",
      "\n",
      "Result\n",
      " [0.         1.         1.5849625  2.         2.32192809]\n"
     ]
    }
   ],
   "source": [
    "import numpy as np\n",
    " \n",
    "# Create a Numpy array\n",
    "n = np.array([1, 2, 3, 4, 5])\n",
    "print(\"Array\\n\",n)\n",
    " \n",
    "# log2\n",
    "print(\"\\nResult\\n\",np.log2(n))"
   ]
  },
  {
   "cell_type": "code",
   "execution_count": 72,
   "id": "ee3ac0b5-1607-4f5d-96ea-d83ea197bdfe",
   "metadata": {},
   "outputs": [
    {
     "name": "stdout",
     "output_type": "stream",
     "text": [
      "Array\n",
      " [1 2 3 4 5]\n",
      "\n",
      "Result\n",
      " [0.         0.30103    0.47712125 0.60205999 0.69897   ]\n"
     ]
    }
   ],
   "source": [
    "import numpy as np\n",
    " \n",
    "# Create an array\n",
    "n = np.array([1, 2, 3, 4, 5])\n",
    "print(\"Array\\n\",n)\n",
    " \n",
    "# log10\n",
    "print(\"\\nResult\\n\",np.log10(n))"
   ]
  },
  {
   "cell_type": "code",
   "execution_count": 73,
   "id": "e12b66df-e865-4095-961d-8f206f86e7df",
   "metadata": {},
   "outputs": [
    {
     "name": "stdout",
     "output_type": "stream",
     "text": [
      "LCM of two numbers =  12\n"
     ]
    }
   ],
   "source": [
    "import numpy as np\n",
    " \n",
    "# Two numbers\n",
    "a = 3\n",
    "b = 12\n",
    " \n",
    "# Finding LCM\n",
    "res = np.lcm(a, b)\n",
    " \n",
    "print(\"LCM of two numbers = \", res)"
   ]
  },
  {
   "cell_type": "code",
   "execution_count": 74,
   "id": "3c9cd2f5-cc7c-4a27-a094-8a6bd165d223",
   "metadata": {},
   "outputs": [
    {
     "name": "stdout",
     "output_type": "stream",
     "text": [
      "GCD of two numbers =  2\n"
     ]
    }
   ],
   "source": [
    "import numpy as np\n",
    " \n",
    "# Two numbers\n",
    "a = 2\n",
    "b = 8\n",
    " \n",
    "# finding GCD (HCF)\n",
    "res = np.gcd(a, b)\n",
    " \n",
    "print(\"GCD of two numbers = \", res)"
   ]
  },
  {
   "cell_type": "code",
   "execution_count": null,
   "id": "a23e269d-d2cd-4b80-b775-68556c483beb",
   "metadata": {},
   "outputs": [],
   "source": []
  }
 ],
 "metadata": {
  "kernelspec": {
   "display_name": "Python 3 (ipykernel)",
   "language": "python",
   "name": "python3"
  },
  "language_info": {
   "codemirror_mode": {
    "name": "ipython",
    "version": 3
   },
   "file_extension": ".py",
   "mimetype": "text/x-python",
   "name": "python",
   "nbconvert_exporter": "python",
   "pygments_lexer": "ipython3",
   "version": "3.12.4"
  }
 },
 "nbformat": 4,
 "nbformat_minor": 5
}
