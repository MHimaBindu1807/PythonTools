{
 "cells": [
  {
   "cell_type": "code",
   "execution_count": 2,
   "id": "2cc1008c-9444-494e-8874-7e8106111691",
   "metadata": {},
   "outputs": [],
   "source": [
    "import pandas as pd"
   ]
  },
  {
   "cell_type": "code",
   "execution_count": 3,
   "id": "5f351133-bf62-463e-8056-136b0ac4929b",
   "metadata": {},
   "outputs": [
    {
     "name": "stdout",
     "output_type": "stream",
     "text": [
      "Student Records\n",
      "\n",
      "   Student  Rank  Marks\n",
      "0    Amit     1     95\n",
      "1    John     2     70\n",
      "2   Jacob     3     80\n",
      "3   David     4     60\n",
      "4   Steve     5     90\n"
     ]
    }
   ],
   "source": [
    "#Creating a dataframe using Pandas \n",
    "data={\n",
    "    'Student': [\"Amit\",\"John\",\"Jacob\",\"David\",\"Steve\"],\n",
    "    'Rank' : [1,2,3,4,5],\n",
    "    'Marks' : [95,70,80,60,90]\n",
    "}\n",
    "df=pd.DataFrame(data)\n",
    "print(\"Student Records\\n\\n\",df)"
   ]
  },
  {
   "cell_type": "code",
   "execution_count": 4,
   "id": "ada93d83-0697-40f6-a4be-15e0e74a13e3",
   "metadata": {},
   "outputs": [
    {
     "name": "stdout",
     "output_type": "stream",
     "text": [
      "Student Records\n",
      "\n",
      "      Student  Rank  Marks\n",
      "RowA    Amit     1     95\n",
      "RowB    John     2     70\n",
      "RowC   Jacob     3     80\n",
      "RowD   David     4     60\n",
      "RowE   Steve     5     90\n",
      "\n",
      "Value =  Amit\n"
     ]
    }
   ],
   "source": [
    "#Acess group of rows or columns in a pandas DataFrame\n",
    "data={\n",
    "    'Student': [\"Amit\",\"John\",\"Jacob\",\"David\",\"Steve\"],\n",
    "    'Rank' : [1,2,3,4,5],\n",
    "    'Marks' : [95,70,80,60,90]\n",
    "}\n",
    "df=pd.DataFrame(data, index = ['RowA','RowB','RowC','RowD','RowE'])\n",
    "print(\"Student Records\\n\\n\",df)\n",
    "#Access value in column corresponding to the RowA label\n",
    "print(\"\\nValue = \",df.loc['RowA','Student'])"
   ]
  },
  {
   "cell_type": "code",
   "execution_count": 5,
   "id": "3b433705-164c-44ae-982c-ec5b5db5159f",
   "metadata": {},
   "outputs": [
    {
     "name": "stdout",
     "output_type": "stream",
     "text": [
      "Student Records\n",
      "\n",
      "      Student  Rank  Marks\n",
      "RowA    Amit     1     95\n",
      "RowB    John     2     70\n",
      "RowC   Jacob     3     80\n",
      "RowD   David     4     60\n",
      "RowE   Steve     5     90\n",
      "\n",
      "Value= \n",
      "      Student  Rank  Marks\n",
      "RowB    John     2     70\n",
      "RowC   Jacob     3     80\n"
     ]
    }
   ],
   "source": [
    "data={\n",
    "    'Student': [\"Amit\",\"John\",\"Jacob\",\"David\",\"Steve\"],\n",
    "    'Rank' : [1,2,3,4,5],\n",
    "    'Marks' : [95,70,80,60,90]\n",
    "}\n",
    "df=pd.DataFrame(data, index = ['RowA','RowB','RowC','RowD','RowE'])\n",
    "print(\"Student Records\\n\\n\",df)\n",
    "#Access using Integer Positions\n",
    "print(\"\\nValue= \\n\",df.iloc[[1,2]])"
   ]
  },
  {
   "cell_type": "code",
   "execution_count": 6,
   "id": "f41cc6a1-c92b-47bd-bb82-ec8c9051b91c",
   "metadata": {},
   "outputs": [
    {
     "name": "stdout",
     "output_type": "stream",
     "text": [
      "Student Records\n",
      "\n",
      "          Student  Rank  Marks\n",
      "Student1    Amit     1     95\n",
      "Student2    John     2     70\n",
      "Student3   Jacob     3     80\n",
      "Student4   David     4     60\n",
      "Student5   Steve     5     90\n"
     ]
    }
   ],
   "source": [
    "#naming columns\n",
    "data={\n",
    "    'Student': [\"Amit\",\"John\",\"Jacob\",\"David\",\"Steve\"],\n",
    "    'Rank' : [1,2,3,4,5],\n",
    "    'Marks' : [95,70,80,60,90]\n",
    "}\n",
    "df=pd.DataFrame(data, index = ['Student1','Student2','Student3','Student4','Student5'])\n",
    "print(\"Student Records\\n\\n\",df)"
   ]
  },
  {
   "cell_type": "code",
   "execution_count": 7,
   "id": "c9d4cbef-3c23-403a-b4bd-68a71df536d5",
   "metadata": {},
   "outputs": [
    {
     "name": "stdout",
     "output_type": "stream",
     "text": [
      "Student Records\n",
      "\n",
      "          Student  Rank  Marks\n",
      "Student1    Amit     1     95\n",
      "Student2    John     2     70\n",
      "Student3   Jacob     3     80\n",
      "Student4   David     4     60\n",
      "Student5   Steve     5     90\n",
      "\n",
      " Displaying Columns:\n",
      "Student\n",
      "Rank\n",
      "Marks\n"
     ]
    }
   ],
   "source": [
    "#Iterate dataframe\n",
    "data={\n",
    "    'Student': [\"Amit\",\"John\",\"Jacob\",\"David\",\"Steve\"],\n",
    "    'Rank' : [1,2,3,4,5],\n",
    "    'Marks' : [95,70,80,60,90]\n",
    "}\n",
    "df=pd.DataFrame(data, index = ['Student1','Student2','Student3','Student4','Student5'])\n",
    "print(\"Student Records\\n\\n\",df)\n",
    "#Iterating\n",
    "print(\"\\n Displaying Columns:\")\n",
    "for col in df:\n",
    "    print(col)"
   ]
  },
  {
   "cell_type": "code",
   "execution_count": 8,
   "id": "0599ed58-d1b4-4797-899e-cd50171c2b48",
   "metadata": {},
   "outputs": [
    {
     "name": "stdout",
     "output_type": "stream",
     "text": [
      "Student Records\n",
      "\n",
      "      Student  Rank  Marks\n",
      "RowA    Amit     1     95\n",
      "RowB    John     4     70\n",
      "RowC   Jacob     3     80\n",
      "RowD   David     5     60\n",
      "RowE   Steve     2     90\n",
      "\n",
      "DataTypes:\n",
      " Student    object\n",
      "Rank        int64\n",
      "Marks       int64\n",
      "dtype: object\n",
      "\n",
      " Number of Dimensions:  2\n",
      "\n",
      " No. of Elements:\n",
      "  15\n",
      "\n",
      "Dimensions:\n",
      "  (5, 3)\n",
      "\n",
      "DataFrame Index:\n",
      "  Index(['RowA', 'RowB', 'RowC', 'RowD', 'RowE'], dtype='object')\n",
      "\n",
      "Transpose:\n",
      "          RowA  RowB   RowC   RowD   RowE\n",
      "Student  Amit  John  Jacob  David  Steve\n",
      "Rank        1     4      3      5      2\n",
      "Marks      95    70     80     60     90\n"
     ]
    }
   ],
   "source": [
    "data={\n",
    "    'Student': [\"Amit\",\"John\",\"Jacob\",\"David\",\"Steve\"],\n",
    "    'Rank' : [1,4,3,5,2],\n",
    "    'Marks' : [95,70,80,60,90]\n",
    "}\n",
    "df=pd.DataFrame(data, index = ['RowA','RowB','RowC','RowD','RowE'])\n",
    "print(\"Student Records\\n\\n\",df)\n",
    "print(\"\\nDataTypes:\\n\",df.dtypes)\n",
    "#Number of dimensions in the DataFrame\n",
    "print(\"\\n Number of Dimensions: \",df.ndim)\n",
    "#size of DataFrame\n",
    "print(\"\\n No. of Elements:\\n \",df.size)\n",
    "#Dimensionality\n",
    "print(\"\\nDimensions:\\n \",df.shape)\n",
    "#Dataframe Index\n",
    "print(\"\\nDataFrame Index:\\n \",df.index)\n",
    "#Transpose\n",
    "print(\"\\nTranspose:\\n\", df.T)"
   ]
  },
  {
   "cell_type": "code",
   "execution_count": 10,
   "id": "f05c2eb2-80f0-4080-8011-3f47b655d5be",
   "metadata": {},
   "outputs": [
    {
     "name": "stdout",
     "output_type": "stream",
     "text": [
      "Student Records\n",
      "\n",
      "      Student  Rank  Marks\n",
      "RowA    Amit     1     95\n",
      "RowB    John     4     70\n",
      "RowC   Jacob     3     80\n",
      "RowD   David     5     60\n",
      "RowE  Nathan     6     55\n",
      "RowF   Steve     2     90\n",
      "\n",
      "First Five rows:      Student  Rank  Marks\n",
      "RowA    Amit     1     95\n",
      "RowB    John     4     70\n",
      "RowC   Jacob     3     80\n",
      "RowD   David     5     60\n",
      "RowE  Nathan     6     55\n",
      "\n",
      "First Two rows:      Student  Rank  Marks\n",
      "RowA    Amit     1     95\n",
      "RowB    John     4     70\n",
      "\n",
      "Last Five rows:      Student  Rank  Marks\n",
      "RowB    John     4     70\n",
      "RowC   Jacob     3     80\n",
      "RowD   David     5     60\n",
      "RowE  Nathan     6     55\n",
      "RowF   Steve     2     90\n",
      "\n",
      "Last Two rows:      Student  Rank  Marks\n",
      "RowE  Nathan     6     55\n",
      "RowF   Steve     2     90\n"
     ]
    }
   ],
   "source": [
    "data={\n",
    "    'Student': [\"Amit\",\"John\",\"Jacob\",\"David\",\"Nathan\",\"Steve\"],\n",
    "    'Rank' : [1,4,3,5,6,2],\n",
    "    'Marks' : [95,70,80,60,55,90]\n",
    "}\n",
    "df=pd.DataFrame(data, index = ['RowA','RowB','RowC','RowD','RowE','RowF'])\n",
    "print(\"Student Records\\n\\n\",df)\n",
    "#First 5 rows\n",
    "print(\"\\nFirst Five rows:\",df.head())\n",
    "#First 2 rows\n",
    "print(\"\\nFirst Two rows:\",df.head(2))\n",
    "#last 5 rows\n",
    "print(\"\\nLast Five rows:\",df.tail())\n",
    "#last 2 rows\n",
    "print(\"\\nLast Two rows:\",df.tail(2))"
   ]
  },
  {
   "cell_type": "code",
   "execution_count": 15,
   "id": "d10c8d14-ab67-48f6-9fdf-b3e785ce339c",
   "metadata": {},
   "outputs": [
    {
     "name": "stdout",
     "output_type": "stream",
     "text": [
      "DataFrame1 = \n",
      "     Id Student  Roll\n",
      "0  S01    Amit   101\n",
      "1  S02    John   102\n",
      "2  S03   Jacob   103\n",
      "3  S04   David   104\n",
      "4  S05   Steve   105\n",
      "\n",
      "DataFrame2 = \n",
      "    Rank  Marks\n",
      "0     1     95\n",
      "1     4     70\n",
      "2     3     80\n",
      "3     5     60\n",
      "4     2     90\n",
      "\n",
      " Joining Two data frames:\n",
      "     Id Student  Roll  Rank  Marks\n",
      "0  S01    Amit   101     1     95\n",
      "1  S02    John   102     4     70\n",
      "2  S03   Jacob   103     3     80\n",
      "3  S04   David   104     5     60\n",
      "4  S05   Steve   105     2     90\n"
     ]
    }
   ],
   "source": [
    "import pandas as pd\n",
    "data1={\n",
    "    'Id':[\"S01\",\"S02\",\"S03\",\"S04\",\"S05\"],\n",
    "    'Student' :[\"Amit\",\"John\",\"Jacob\",\"David\",\"Steve\"],\n",
    "    'Roll':[101,102,103,104,105]\n",
    "}\n",
    "data2={\n",
    "    'Rank' : [1,4,3,5,2],\n",
    "    'Marks' : [95,70,80,60,90]\n",
    "}\n",
    "dataFrame1=pd.DataFrame(data1)\n",
    "print(\"DataFrame1 = \\n\",dataFrame1)\n",
    "dataFrame2=pd.DataFrame(data2)\n",
    "print(\"\\nDataFrame2 = \\n\",dataFrame2)\n",
    "#Joining two dataframes\n",
    "DF=dataFrame1.join(dataFrame2)\n",
    "print(\"\\n Joining Two data frames:\\n\",DF)"
   ]
  },
  {
   "cell_type": "code",
   "execution_count": 16,
   "id": "a0ddea5d-b5a7-4ff9-9b54-1e5445fb6675",
   "metadata": {},
   "outputs": [
    {
     "name": "stdout",
     "output_type": "stream",
     "text": [
      "DataFrame1 = \n",
      "     Id Student  Roll\n",
      "0  S01    Amit   101\n",
      "1  S02    John   102\n",
      "2  S03   Jacob   103\n",
      "3  S04   David   104\n",
      "4  S05   Steve   105\n",
      "\n",
      "DataFrame2 = \n",
      "     Id Student  Roll\n",
      "0  S06     Ben   106\n",
      "1  S07    Kane   107\n",
      "2  S08   Rohit   108\n",
      "\n",
      "Concatenating DataFrames = \n",
      "     Id Student  Roll\n",
      "0  S01    Amit   101\n",
      "1  S02    John   102\n",
      "2  S03   Jacob   103\n",
      "3  S04   David   104\n",
      "4  S05   Steve   105\n",
      "0  S06     Ben   106\n",
      "1  S07    Kane   107\n",
      "2  S08   Rohit   108\n"
     ]
    }
   ],
   "source": [
    "import pandas as pd\n",
    "data1={\n",
    "    'Id':[\"S01\",\"S02\",\"S03\",\"S04\",\"S05\"],\n",
    "    'Student' :[\"Amit\",\"John\",\"Jacob\",\"David\",\"Steve\"],\n",
    "    'Roll':[101,102,103,104,105]\n",
    "}\n",
    "data2={\n",
    "    'Id':[\"S06\",\"S07\",\"S08\"],\n",
    "    'Student' :[\"Ben\",\"Kane\",\"Rohit\"],\n",
    "    'Roll':[106,107,108]\n",
    "}\n",
    "dataFrame1=pd.DataFrame(data1)\n",
    "print(\"DataFrame1 = \\n\",dataFrame1)\n",
    "dataFrame2=pd.DataFrame(data2)\n",
    "print(\"\\nDataFrame2 = \\n\",dataFrame2)\n",
    "#Concatenate two DataFrames\n",
    "resDf=pd.concat([dataFrame1,dataFrame2])\n",
    "print(\"\\nConcatenating DataFrames = \\n\",resDf)"
   ]
  },
  {
   "cell_type": "code",
   "execution_count": 1,
   "id": "cddbfcd2-de6e-4b4d-a5b7-25a3894dddee",
   "metadata": {},
   "outputs": [
    {
     "name": "stdout",
     "output_type": "stream",
     "text": [
      "Series:\n",
      " 0     10\n",
      "1     20\n",
      "2     40\n",
      "3     80\n",
      "4    100\n",
      "dtype: int64\n",
      "\n",
      " From index 2: 40\n",
      "\n",
      "\n",
      "Customing Column names:\n",
      " RowA     10\n",
      "RowB     20\n",
      "RowC     40\n",
      "RowD     80\n",
      "RowE    100\n",
      "dtype: int64\n",
      "\n",
      " Value from RowD: 80\n",
      "\n",
      "Series Datatype:  int64\n",
      "\n",
      "Series Dimensions:  1\n",
      "\n",
      "Series Size:  5\n",
      "Series: \n",
      " 0     10\n",
      "1     20\n",
      "2     40\n",
      "3     80\n",
      "4    100\n",
      "Name: MyNumberSeries, dtype: int64\n",
      "\n",
      "Series Name:  MyNumberSeries\n"
     ]
    }
   ],
   "source": [
    "#Creating Series\n",
    "import pandas as pd\n",
    "data=[10,20,40,80,100]\n",
    "s=pd.Series(data)\n",
    "print(\"Series:\\n\",s)\n",
    "#Access a value\n",
    "print(\"\\n From index 2:\",s[2])\n",
    "#Custom the names\n",
    "s=pd.Series(data, index=[\"RowA\",\"RowB\",\"RowC\",\"RowD\",\"RowE\"])\n",
    "print(\"\\n\\nCustoming Column names:\\n\",s)\n",
    "#Accessing value from Pandas series\n",
    "print(\"\\n Value from RowD:\",s[\"RowD\"])\n",
    "# Datatype\n",
    "print(\"\\nSeries Datatype: \", s.dtype)\n",
    "# Dimensions\n",
    "print(\"\\nSeries Dimensions: \", s.ndim)\n",
    "# Return the number of elements in the Series\n",
    "print(\"\\nSeries Size: \", s.size)\n",
    "# Create a Series using the Series() method\n",
    "# We have set the Series name using the name attribute\n",
    "s = pd.Series(data, name =\"MyNumberSeries\")\n",
    " \n",
    "# Display the Series\n",
    "print(\"Series: \\n\", s)\n",
    " \n",
    "# Return the name of the Series\n",
    "print(\"\\nSeries Name: \", s.name)"
   ]
  },
  {
   "cell_type": "code",
   "execution_count": 2,
   "id": "083a7d13-40ff-4adb-a5ef-4277d87d5ffc",
   "metadata": {},
   "outputs": [
    {
     "name": "stdout",
     "output_type": "stream",
     "text": [
      "Series: \n",
      " 0     10.0\n",
      "1     20.0\n",
      "2     40.0\n",
      "3     80.0\n",
      "4    100.0\n",
      "5      NaN\n",
      "dtype: float64\n",
      "\n",
      "Does the Series has NaN?  True\n"
     ]
    }
   ],
   "source": [
    "import pandas as pd\n",
    "import numpy as np\n",
    " \n",
    "# Data to be stored in the Pandas Series\n",
    "data = [10, 20, 40, 80, 100, np.NaN]\n",
    " \n",
    "# Create a Series using the Series() method\n",
    "s = pd.Series(data)\n",
    " \n",
    "# Display the Series\n",
    "print(\"Series: \\n\", s)\n",
    " \n",
    "# Check whether the Series has NaNs\n",
    "print(\"\\nDoes the Series has NaN? \", s.hasnans)"
   ]
  },
  {
   "cell_type": "code",
   "execution_count": 3,
   "id": "30e6ea6d-2f94-4d72-bc6f-87522c8486a2",
   "metadata": {},
   "outputs": [
    {
     "name": "stdout",
     "output_type": "stream",
     "text": [
      "Series (with custom index labels): \n",
      " RowA     10\n",
      "RowB     20\n",
      "RowC     40\n",
      "RowD     80\n",
      "RowE    100\n",
      "dtype: int64\n",
      "\n",
      "Series Index:  Index(['RowA', 'RowB', 'RowC', 'RowD', 'RowE'], dtype='object')\n"
     ]
    }
   ],
   "source": [
    "import pandas as pd\n",
    " \n",
    "# Data to be stored in the Pandas Series\n",
    "data = [10, 20, 40, 80, 100]\n",
    " \n",
    "# Create a Series using the Series() method\n",
    "s = pd.Series(data, index=[\"RowA\", \"RowB\", \"RowC\", \"RowD\", \"RowE\"])\n",
    " \n",
    "# Display the Series\n",
    "print(\"Series (with custom index labels): \\n\", s)\n",
    " \n",
    "# Return the index of the Series\n",
    "print(\"\\nSeries Index: \", s.index)\n",
    " "
   ]
  },
  {
   "cell_type": "code",
   "execution_count": 4,
   "id": "ebe595b0-b472-4c46-9166-c8f1ad34b94f",
   "metadata": {},
   "outputs": [
    {
     "name": "stdout",
     "output_type": "stream",
     "text": [
      "Series (with custom index labels): \n",
      " RowA     10\n",
      "RowB     20\n",
      "RowC     40\n",
      "RowD     80\n",
      "RowE    100\n",
      "RowF    200\n",
      "RowG    300\n",
      "RowH    500\n",
      "dtype: int64\n",
      "\n",
      "The first 5 rows of the series:\n",
      " RowA     10\n",
      "RowB     20\n",
      "RowC     40\n",
      "RowD     80\n",
      "RowE    100\n",
      "dtype: int64\n"
     ]
    }
   ],
   "source": [
    "import pandas as pd\n",
    " \n",
    "# Data to be stored in the Pandas Series\n",
    "data = [10, 20, 40, 80, 100, 200, 300, 500]\n",
    " \n",
    "# Create a Series using the Series() method\n",
    "s = pd.Series(data, index=[\"RowA\", \"RowB\", \"RowC\", \"RowD\", \"RowE\", \"RowF\", \"RowG\", \"RowH\"])\n",
    " \n",
    "# Display the Series\n",
    "print(\"Series (with custom index labels): \\n\", s)\n",
    " \n",
    "# Return the first n rows. \n",
    "# The 5 is default for n\n",
    "print(\"\\nThe first 5 rows of the series:\\n\", s.head())"
   ]
  },
  {
   "cell_type": "code",
   "execution_count": 5,
   "id": "940e5a69-f0dc-4ca4-9ba8-479bb0920a1d",
   "metadata": {},
   "outputs": [
    {
     "name": "stdout",
     "output_type": "stream",
     "text": [
      "Series (with custom index labels): \n",
      " RowA     10\n",
      "RowB     20\n",
      "RowC     40\n",
      "RowD     80\n",
      "RowE    100\n",
      "RowF    200\n",
      "RowG    300\n",
      "RowH    500\n",
      "dtype: int64\n",
      "\n",
      "The last 5 rows of the series:\n",
      " RowD     80\n",
      "RowE    100\n",
      "RowF    200\n",
      "RowG    300\n",
      "RowH    500\n",
      "dtype: int64\n"
     ]
    }
   ],
   "source": [
    "import pandas as pd\n",
    " \n",
    "# Data to be stored in the Pandas Series\n",
    "data = [10, 20, 40, 80, 100, 200, 300, 500]\n",
    " \n",
    "# Create a Series using the Series() method\n",
    "s = pd.Series(data, index=[\"RowA\", \"RowB\", \"RowC\", \"RowD\", \"RowE\", \"RowF\", \"RowG\", \"RowH\"])\n",
    " \n",
    "# Display the Series\n",
    "print(\"Series (with custom index labels): \\n\", s)\n",
    " \n",
    "# Return the last n rows.\n",
    "# The 5 is default for n\n",
    "print(\"\\nThe last 5 rows of the series:\\n\", s.tail())"
   ]
  },
  {
   "cell_type": "code",
   "execution_count": 6,
   "id": "494e8d01-ee99-4daa-9e5d-beb13a45b473",
   "metadata": {},
   "outputs": [
    {
     "name": "stdout",
     "output_type": "stream",
     "text": [
      "Series (with custom index labels): \n",
      " RowA     10\n",
      "RowB     20\n",
      "RowC     40\n",
      "RowD     80\n",
      "RowE    100\n",
      "RowF    200\n",
      "RowG    300\n",
      "RowH    500\n",
      "dtype: int64\n",
      "<class 'pandas.core.series.Series'>\n",
      "Index: 8 entries, RowA to RowH\n",
      "Series name: None\n",
      "Non-Null Count  Dtype\n",
      "--------------  -----\n",
      "8 non-null      int64\n",
      "dtypes: int64(1)\n",
      "memory usage: 128.0+ bytes\n",
      "\n",
      "Series Summary:\n",
      " None\n"
     ]
    }
   ],
   "source": [
    "import pandas as pd\n",
    " \n",
    "# Data to be stored in the Pandas Series\n",
    "data = [10, 20, 40, 80, 100, 200, 300, 500]\n",
    " \n",
    "# Create a Series using the Series() method\n",
    "s = pd.Series(data, index=[\"RowA\", \"RowB\", \"RowC\", \"RowD\", \"RowE\", \"RowF\", \"RowG\", \"RowH\"])\n",
    " \n",
    "# Display the Series\n",
    "print(\"Series (with custom index labels): \\n\", s)\n",
    " \n",
    "# Return the summary of the series\n",
    "print(\"\\nSeries Summary:\\n\", s.info())"
   ]
  },
  {
   "cell_type": "code",
   "execution_count": 7,
   "id": "44505eb8-d9ee-412f-89bb-00ce2b742afb",
   "metadata": {},
   "outputs": [
    {
     "name": "stdout",
     "output_type": "stream",
     "text": [
      "Series = \n",
      " 0    p\n",
      "1    q\n",
      "2    r\n",
      "3    s\n",
      "4    q\n",
      "dtype: category\n",
      "Categories (4, object): ['p', 'q', 'r', 's']\n"
     ]
    }
   ],
   "source": [
    "import pandas as pd\n",
    " \n",
    "# Creating a Categorical Series \n",
    "s = pd.Series([\"p\", \"q\", \"r\", \"s\", \"q\"], dtype=\"category\")\n",
    " \n",
    "# Display the Series\n",
    "print(\"Series = \\n\", s)\n",
    " "
   ]
  },
  {
   "cell_type": "code",
   "execution_count": 8,
   "id": "d0af649a-e5e2-49bd-85ed-7d59c2448254",
   "metadata": {},
   "outputs": [
    {
     "name": "stdout",
     "output_type": "stream",
     "text": [
      "DataFrame = \n",
      "   Cat1 Cat2 Cat3\n",
      "0    p    p    q\n",
      "1    q    q    r\n",
      "2    r    r    r\n",
      "3    s    p    r\n",
      "\n",
      "DataType of each column = \n",
      " Cat1    category\n",
      "Cat2    category\n",
      "Cat3    category\n",
      "dtype: object\n"
     ]
    }
   ],
   "source": [
    "import pandas as pd\n",
    " \n",
    "# Creating a Categorical DataFrame \n",
    "df = pd.DataFrame({\"Cat1\": list(\"pqrs\"), \"Cat2\": list(\"pqrp\"), \"Cat3\": list(\"qrrr\")}, dtype=\"category\")\n",
    " \n",
    "# Display the DataFrame\n",
    "print(\"DataFrame = \\n\", df)\n",
    " \n",
    "# Display the datatypes\n",
    "print(\"\\nDataType of each column = \\n\", df.dtypes)"
   ]
  },
  {
   "cell_type": "code",
   "execution_count": 10,
   "id": "8124d61b-ca71-40fe-8608-16e63339b7bc",
   "metadata": {},
   "outputs": [
    {
     "name": "stdout",
     "output_type": "stream",
     "text": [
      "Series = \n",
      " 0    p\n",
      "1    q\n",
      "2    r\n",
      "3    s\n",
      "4    q\n",
      "dtype: category\n",
      "Categories (4, object): ['p', 'q', 'r', 's']\n",
      "\n",
      "Updated Categories =  Index(['p', 'q', 'r', 's', 5], dtype='object')\n"
     ]
    }
   ],
   "source": [
    "import pandas as pd \n",
    " \n",
    "# Creating a Categorical Series\n",
    "s = pd.Series([\"p\", \"q\", \"r\", \"s\", \"q\"], dtype=\"category\")\n",
    " \n",
    "# Display the Series\n",
    "print(\"Series = \\n\", s)\n",
    " \n",
    "# Append Category\n",
    "s = s.cat.add_categories([5])\n",
    " \n",
    "# Display the updated category\n",
    "print(\"\\nUpdated Categories = \",s.cat.categories)"
   ]
  },
  {
   "cell_type": "code",
   "execution_count": 11,
   "id": "975b8be9-1a5b-4ccb-9c03-61a886eb0685",
   "metadata": {},
   "outputs": [
    {
     "name": "stdout",
     "output_type": "stream",
     "text": [
      "Series\n",
      " 0    p\n",
      "1    q\n",
      "2    r\n",
      "3    s\n",
      "4    q\n",
      "dtype: category\n",
      "Categories (4, object): ['p', 'q', 'r', 's']\n",
      "\n",
      "Updated Categories\n",
      " 0      p\n",
      "1      q\n",
      "2    NaN\n",
      "3      s\n",
      "4      q\n",
      "dtype: category\n",
      "Categories (3, object): ['p', 'q', 's']\n"
     ]
    }
   ],
   "source": [
    "import pandas as pd \n",
    " \n",
    "# Creating a Categorical Series\n",
    "s = pd.Series([\"p\", \"q\", \"r\", \"s\", \"q\"], dtype=\"category\")\n",
    " \n",
    "# Display the Series\n",
    "print(\"Series\\n\", s)\n",
    " \n",
    "# Remove a Category\n",
    "# Display the updated category after removing a specific category\n",
    "print(\"\\nUpdated Categories\\n\",s.cat.remove_categories(\"r\"))\n",
    " "
   ]
  },
  {
   "cell_type": "code",
   "execution_count": 13,
   "id": "3323f29c-cf4b-4b91-afb6-30fd90fbeb6a",
   "metadata": {},
   "outputs": [
    {
     "name": "stdout",
     "output_type": "stream",
     "text": [
      "Our DataFrame =\n",
      "   Student  Rank  Marks\n",
      "0    Amit     1     95\n",
      "1   Virat     2     90\n",
      "2   David     3     80\n",
      "3    Will     4     75\n",
      "4   Steve     5     65\n"
     ]
    }
   ],
   "source": [
    "import pandas as pd\n",
    " \n",
    "# Input CSV file\n",
    "# Loading CSV in the DataFrame\n",
    "df = pd.read_csv('Student.csv')\n",
    " \n",
    "# Display the CSV file records\n",
    "print(\"Our DataFrame =\\n\",df)"
   ]
  },
  {
   "cell_type": "code",
   "execution_count": 14,
   "id": "ce0d2656-7589-40e7-afdc-9f8cabf8ea54",
   "metadata": {},
   "outputs": [
    {
     "name": "stdout",
     "output_type": "stream",
     "text": [
      "Our DataFrame =\n",
      "   Student  Rank  Marks\n",
      "0    Amit     1     95\n",
      "1   Virat     2     90\n",
      "2   David     3     80\n",
      "3    Will     4     75\n",
      "4   Steve     5     65\n",
      "Top 2 rows\n",
      "   Student  Rank  Marks\n",
      "0    Amit     1     95\n",
      "1   Virat     2     90\n"
     ]
    }
   ],
   "source": [
    "import pandas as pd\n",
    " \n",
    "# Input CSV file\n",
    "# Loading CSV in the DataFrame\n",
    "df = pd.read_csv('Student.csv')\n",
    " \n",
    "# Display the CSV file records\n",
    "print(\"Our DataFrame =\\n\",df)\n",
    " \n",
    "# Display the top n rows using the head()\n",
    "print(\"Top 2 rows\\n\",df.head(2))"
   ]
  },
  {
   "cell_type": "code",
   "execution_count": 15,
   "id": "1df1464a-fa2a-4cad-8f7f-8d08df9b5fdd",
   "metadata": {},
   "outputs": [
    {
     "name": "stdout",
     "output_type": "stream",
     "text": [
      "Our DataFrame =\n",
      "   Student  Rank  Marks\n",
      "0    Amit     1     95\n",
      "1   Virat     2     90\n",
      "2   David     3     80\n",
      "3    Will     4     75\n",
      "4   Steve     5     65\n",
      "  Student  Rank  Marks\n",
      "3    Will     4     75\n",
      "4   Steve     5     65\n"
     ]
    }
   ],
   "source": [
    "import pandas as pd\n",
    " \n",
    "# Input CSV file\n",
    "# Loading CSV in the DataFrame\n",
    "df = pd.read_csv('Student.csv')\n",
    " \n",
    "# Display the CSV file records\n",
    "print(\"Our DataFrame =\\n\",df)\n",
    " \n",
    "# Display the bottom n rows using the tail()\n",
    "print(df.tail(2))"
   ]
  },
  {
   "cell_type": "code",
   "execution_count": 16,
   "id": "62a578fc-3371-44c2-a105-33da157ef04d",
   "metadata": {},
   "outputs": [
    {
     "name": "stdout",
     "output_type": "stream",
     "text": [
      "Our DataFrame =\n",
      "   Player  Rank  Points\n",
      "0  Virat     1     100\n",
      "1  David     2      95\n",
      "2  Steve     3      85\n",
      "3    Ben     4      70\n",
      "4  Rohit     5      65\n",
      "5   Kane     6      60\n"
     ]
    }
   ],
   "source": [
    "import pandas as pd\n",
    " \n",
    "# Input Excel File\n",
    "# Load the Excel in the DataFrame\n",
    "dataFrame = pd.read_excel('Cricket.xlsx')\n",
    " \n",
    "# Display the Excel file records\n",
    "print(\"Our DataFrame =\\n\", dataFrame)\n",
    " "
   ]
  },
  {
   "cell_type": "code",
   "execution_count": 17,
   "id": "2f550865-9a89-4fb2-96f8-e6c012f9b297",
   "metadata": {},
   "outputs": [
    {
     "name": "stdout",
     "output_type": "stream",
     "text": [
      "Our DataFrame =\n",
      "   Player  Rank  Points\n",
      "0  Virat     1     100\n",
      "1  David     2      95\n",
      "2  Steve     3      85\n",
      "3    Ben     4      70\n",
      "4  Rohit     5      65\n",
      "5   Kane     6      60\n",
      "\n",
      "Display top 2 rows =\n",
      "   Player  Rank  Points\n",
      "0  Virat     1     100\n",
      "1  David     2      95\n"
     ]
    }
   ],
   "source": [
    "import pandas as pd\n",
    " \n",
    "# Input Excel File\n",
    "# Load the Excel in the DataFrame\n",
    "dataFrame = pd.read_excel('Cricket.xlsx')\n",
    " \n",
    "# Display the Excel file records\n",
    "print(\"Our DataFrame =\\n\", dataFrame)\n",
    " \n",
    "print(\"\\nDisplay top 2 rows =\\n\",dataFrame.head(2))"
   ]
  },
  {
   "cell_type": "code",
   "execution_count": 18,
   "id": "cdcf091e-21d8-414a-b4fc-a9e62a9216c1",
   "metadata": {},
   "outputs": [
    {
     "name": "stdout",
     "output_type": "stream",
     "text": [
      "Our DataFrame =\n",
      "   Player  Rank  Points\n",
      "0  Virat     1     100\n",
      "1  David     2      95\n",
      "2  Steve     3      85\n",
      "3    Ben     4      70\n",
      "4  Rohit     5      65\n",
      "5   Kane     6      60\n",
      "\n",
      "Display last 2 rows =\n",
      "   Player  Rank  Points\n",
      "4  Rohit     5      65\n",
      "5   Kane     6      60\n"
     ]
    }
   ],
   "source": [
    "import pandas as pd\n",
    " \n",
    "# Input Excel File\n",
    "# Load the Excel in the DataFrame\n",
    "dataFrame = pd.read_excel('Cricket.xlsx')\n",
    " \n",
    "# Display the Excel file records\n",
    "print(\"Our DataFrame =\\n\", dataFrame)\n",
    " \n",
    "print(\"\\nDisplay last 2 rows =\\n\",dataFrame.tail(2))"
   ]
  },
  {
   "cell_type": "code",
   "execution_count": 20,
   "id": "238b075e-84d1-4f9b-b6cc-9d96a9fd9704",
   "metadata": {},
   "outputs": [
    {
     "name": "stdout",
     "output_type": "stream",
     "text": [
      "Our DataFrame =\n",
      "          Rank  Marks\n",
      "Student             \n",
      "Amit        1     95\n",
      "Virat       2     90\n",
      "David       3     80\n",
      "Will        4     75\n",
      "Steve       5     65\n",
      "\n",
      " Student\n",
      "Amit     95\n",
      "Virat    90\n",
      "David    80\n",
      "Will     75\n",
      "Steve    65\n",
      "Name: Marks, dtype: int64\n"
     ]
    }
   ],
   "source": [
    "import pandas as pd\n",
    " \n",
    "# Input CSV file\n",
    "# Loading CSV in the DataFrame\n",
    "df = pd.read_csv('Student.csv',index_col =\"Student\")\n",
    " \n",
    "# Display the CSV file records\n",
    "print(\"Our DataFrame =\\n\", df)\n",
    " \n",
    "# Use the indexing operator\n",
    "res = df[\"Marks\"]\n",
    " \n",
    "# Retrieving marks of students\n",
    "print(\"\\n\",res)"
   ]
  },
  {
   "cell_type": "code",
   "execution_count": 21,
   "id": "730e07d1-6911-47b5-8912-c5cddbe8cb10",
   "metadata": {},
   "outputs": [
    {
     "name": "stdout",
     "output_type": "stream",
     "text": [
      "Our DataFrame =\n",
      "          Rank  Marks\n",
      "Student             \n",
      "Amit        1     95\n",
      "Virat       2     90\n",
      "David       3     80\n",
      "Will        4     75\n",
      "Steve       5     65\n",
      "\n",
      " Rank      1\n",
      "Marks    95\n",
      "Name: Amit, dtype: int64\n"
     ]
    }
   ],
   "source": [
    "import pandas as pd\n",
    " \n",
    "# Input CSV file\n",
    "# Loading CSV in the DataFrame\n",
    "df = pd.read_csv('Student.csv',index_col =\"Student\")\n",
    " \n",
    "# Display the CSV file records\n",
    "print(\"Our DataFrame =\\n\", df)\n",
    " \n",
    "# Retrieving a single row with Name Amit\n",
    "print(\"\\n\",df.loc[\"Amit\"])"
   ]
  },
  {
   "cell_type": "code",
   "execution_count": 22,
   "id": "aeea51d5-0033-4048-a48e-d80eb82e0d9e",
   "metadata": {},
   "outputs": [
    {
     "name": "stdout",
     "output_type": "stream",
     "text": [
      "Our DataFrame =\n",
      "          Rank  Marks\n",
      "Student             \n",
      "Amit        1     95\n",
      "Virat       2     90\n",
      "David       3     80\n",
      "Will        4     75\n",
      "Steve       5     65\n",
      "\n",
      " Rank      3\n",
      "Marks    80\n",
      "Name: David, dtype: int64\n"
     ]
    }
   ],
   "source": [
    "import pandas as pd\n",
    " \n",
    "# Input CSV file\n",
    "# Loading CSV in the DataFrame\n",
    "df = pd.read_csv('Student.csv',index_col =\"Student\")\n",
    " \n",
    "# Display the CSV file records\n",
    "print(\"Our DataFrame =\\n\",df)\n",
    " \n",
    "# Retrieving row 3 records\n",
    "res = df.iloc[2]\n",
    "print(\"\\n\",res)"
   ]
  },
  {
   "cell_type": "code",
   "execution_count": 23,
   "id": "40b3fa28-0e27-457c-98d5-df09284b1877",
   "metadata": {},
   "outputs": [
    {
     "name": "stdout",
     "output_type": "stream",
     "text": [
      "Student Records\n",
      "\n",
      "   student  rank  marks\n",
      "0    Amit     1     95\n",
      "1    John     4     70\n",
      "2   Jacob     3     80\n",
      "3   David     5     60\n",
      "4   Steve     2     90\n",
      "\n",
      "Selecting only two columns:\n",
      "    rank  marks\n",
      "0     1     95\n",
      "1     4     70\n",
      "2     3     80\n",
      "3     5     60\n",
      "4     2     90\n"
     ]
    }
   ],
   "source": [
    "import pandas as pd\n",
    " \n",
    "# Dataset\n",
    "data = {\n",
    "  'student': [\"Amit\", \"John\", \"Jacob\", \"David\", \"Steve\"],\n",
    "  'rank': [1, 4, 3, 5, 2],\n",
    "  'marks': [95, 70, 80, 60, 90]\n",
    "}\n",
    " \n",
    "dataFrame = pd.DataFrame(data)\n",
    " \n",
    "print(\"Student Records\\n\\n\",dataFrame)\n",
    "print(\"\\nSelecting only two columns:\\n\",dataFrame[['rank', 'marks']])\n",
    " "
   ]
  },
  {
   "cell_type": "code",
   "execution_count": 24,
   "id": "fe140b4c-68db-4bf6-b8c7-51f01111e39d",
   "metadata": {},
   "outputs": [
    {
     "name": "stdout",
     "output_type": "stream",
     "text": [
      "Student Records\n",
      "     Id Student  Roll  Rank  Marks    Address\n",
      "0  S01    Amit   101     1     95       East\n",
      "1  S02    John   102     4     70      North\n",
      "2  S03   Jacob   103     3     80       West\n",
      "3  S04   David   104     5     60      South\n",
      "4  S05   Steve   105     2     90  SouthWest\n",
      "\n",
      "Selecting columns in a range:\n",
      "    Roll  Rank  Marks\n",
      "0   101     1     95\n",
      "1   102     4     70\n",
      "2   103     3     80\n",
      "3   104     5     60\n",
      "4   105     2     90\n"
     ]
    }
   ],
   "source": [
    "import pandas as pd\n",
    " \n",
    "# Dataset\n",
    "data = {\n",
    "   'Id': [\"S01\", \"S02\", \"S03\", \"S04\", \"S05\"],\n",
    "   'Student': [\"Amit\", \"John\", \"Jacob\", \"David\", \"Steve\"],\n",
    "   'Roll': [101, 102, 103, 104, 105],\n",
    "   'Rank': [1, 4, 3, 5, 2],\n",
    "   'Marks': [95, 70, 80, 60, 90],\n",
    "   'Address': [\"East\", \"North\", \"West\", \"South\", \"SouthWest\"]\n",
    "}\n",
    " \n",
    "dataFrame = pd.DataFrame(data)\n",
    " \n",
    "print(\"Student Records\\n\", dataFrame)\n",
    " \n",
    "# 3rd to 5th columns are selected\n",
    "print(\"\\nSelecting columns in a range:\\n\", dataFrame[dataFrame.columns[2:5]])\n",
    " "
   ]
  },
  {
   "cell_type": "code",
   "execution_count": 1,
   "id": "d38e6e6b-ce08-47cc-b498-dcaeea32d047",
   "metadata": {},
   "outputs": [
    {
     "name": "stdout",
     "output_type": "stream",
     "text": [
      "Student Records\n",
      "\n",
      "     id student  rank  marks\n",
      "0  S01    Amit     1     95\n",
      "1  S02    John     4     70\n",
      "2  S03   Jacob     3     80\n",
      "3  S04   David     5     60\n",
      "4  S05   Steve     2     90\n",
      "\n",
      "Updated DataFrame:\n",
      "     id student  roll  rank  marks\n",
      "0  S01    Amit   101     1     95\n",
      "1  S02    John   102     4     70\n",
      "2  S03   Jacob   103     3     80\n",
      "3  S04   David   104     5     60\n",
      "4  S05   Steve   105     2     90\n"
     ]
    }
   ],
   "source": [
    "import pandas as pd\n",
    " \n",
    "# Dataset\n",
    "data = {\n",
    "  'id': [\"S01\", \"S02\", \"S03\", \"S04\", \"S05\"],\n",
    "  'student': [\"Amit\", \"John\", \"Jacob\", \"David\", \"Steve\"],\n",
    "  'rank': [1, 4, 3, 5, 2],\n",
    "  'marks': [95, 70, 80, 60, 90]\n",
    "}\n",
    " \n",
    "dataFrame = pd.DataFrame(data)\n",
    "print(\"Student Records\\n\\n\",dataFrame)\n",
    " \n",
    "# Insert a new column using the insert() method\n",
    "# The location set is 2 i.e. 2nd index i.e. 3rd position\n",
    "dataFrame.insert(2, \"roll\",  [101, 102, 103, 104, 105])\n",
    " \n",
    "# DataFrame after adding a new column\n",
    "print(\"\\nUpdated DataFrame:\\n\",dataFrame)"
   ]
  },
  {
   "cell_type": "code",
   "execution_count": 2,
   "id": "3368a79d-1261-4653-b446-eedd7526928e",
   "metadata": {},
   "outputs": [
    {
     "name": "stdout",
     "output_type": "stream",
     "text": [
      "Student Records\n",
      "\n",
      "     id student  rank  marks\n",
      "0  S01    Amit     1     95\n",
      "1  S02    John     4     70\n",
      "2  S03   Jacob     3     80\n",
      "3  S04   David     5     60\n",
      "4  S05   Steve     2     90\n",
      "\n",
      "Updated DataFrame:\n",
      "     id student  rank  marks  roll\n",
      "0  S01    Amit     1     95   101\n",
      "1  S02    John     4     70   102\n",
      "2  S03   Jacob     3     80   103\n",
      "3  S04   David     5     60   104\n",
      "4  S05   Steve     2     90   105\n"
     ]
    }
   ],
   "source": [
    "import pandas as pd\n",
    " \n",
    "# Dataset\n",
    "data = {\n",
    "  'id': [\"S01\", \"S02\", \"S03\", \"S04\", \"S05\"],\n",
    "  'student': [\"Amit\", \"John\", \"Jacob\", \"David\", \"Steve\"],\n",
    "  'rank': [1, 4, 3, 5, 2],\n",
    "  'marks': [95, 70, 80, 60, 90]\n",
    "}\n",
    " \n",
    "dataFrame = pd.DataFrame(data)\n",
    "print(\"Student Records\\n\\n\",dataFrame)\n",
    " \n",
    "# Insert a new column using the assign() method\n",
    "# It automatically gets inserted at the end\n",
    "resDF = dataFrame.assign(roll =  [101, 102, 103, 104, 105])\n",
    " \n",
    "# DataFrame after adding a new column\n",
    "print(\"\\nUpdated DataFrame:\\n\",resDF)"
   ]
  },
  {
   "cell_type": "code",
   "execution_count": 3,
   "id": "81548f72-56eb-46b0-9e2d-c02791c437af",
   "metadata": {},
   "outputs": [
    {
     "name": "stdout",
     "output_type": "stream",
     "text": [
      "Student Records\n",
      "\n",
      "     id student  rank  marks\n",
      "0  S01    Amit     1     95\n",
      "1  S02    John     4     70\n",
      "2  S03   Jacob     3     80\n",
      "3  S04   David     5     60\n",
      "4  S05   Steve     2     90\n",
      "\n",
      "Updated DataFrame:\n",
      "     id student  rank\n",
      "0  S01    Amit     1\n",
      "1  S02    John     4\n",
      "2  S03   Jacob     3\n",
      "3  S04   David     5\n",
      "4  S05   Steve     2\n"
     ]
    }
   ],
   "source": [
    "import pandas as pd\n",
    " \n",
    "# Dataset\n",
    "data = {\n",
    "  'id': [\"S01\", \"S02\", \"S03\", \"S04\", \"S05\"],\n",
    "  'student': [\"Amit\", \"John\", \"Jacob\", \"David\", \"Steve\"],\n",
    "  'rank': [1, 4, 3, 5, 2],\n",
    "  'marks': [95, 70, 80, 60, 90]\n",
    "}\n",
    " \n",
    "dataFrame = pd.DataFrame(data)\n",
    "print(\"Student Records\\n\\n\",dataFrame)\n",
    " \n",
    "# Drop a column using the drop() method\n",
    "# The marks column is deleted\n",
    "resDF = dataFrame.drop(\"marks\", axis='columns')\n",
    " \n",
    "# DataFrame after dropping a column\n",
    "print(\"\\nUpdated DataFrame:\\n\",resDF)"
   ]
  },
  {
   "cell_type": "code",
   "execution_count": 4,
   "id": "eb8a6e25-ccd8-4c48-8eed-6f09ee371f43",
   "metadata": {},
   "outputs": [
    {
     "name": "stdout",
     "output_type": "stream",
     "text": [
      "Student Records\n",
      "\n",
      "     id student  rank  marks\n",
      "0  S01    Amit     1     95\n",
      "1  S02    John     4     70\n",
      "2  S03   Jacob     3     80\n",
      "3  S04   David     5     60\n",
      "4  S05   Steve     2     90\n",
      "\n",
      "Updated DataFrame:\n",
      "     id student  rank  marks\n",
      "0  S01    Amit     1     95\n",
      "1  S02    John     4     70\n",
      "3  S04   David     5     60\n",
      "4  S05   Steve     2     90\n"
     ]
    }
   ],
   "source": [
    "import pandas as pd\n",
    " \n",
    "# Dataset\n",
    "data = {\n",
    "  'id': [\"S01\", \"S02\", \"S03\", \"S04\", \"S05\"],\n",
    "  'student': [\"Amit\", \"John\", \"Jacob\", \"David\", \"Steve\"],\n",
    "  'rank': [1, 4, 3, 5, 2],\n",
    "  'marks': [95, 70, 80, 60, 90]\n",
    "}\n",
    " \n",
    "dataFrame = pd.DataFrame(data)\n",
    "print(\"Student Records\\n\\n\",dataFrame)\n",
    " \n",
    "# Drop a row using the drop() method\n",
    "# The row with index 2 is removed\n",
    "resDF = dataFrame.drop(2, axis='index')\n",
    " \n",
    "# DataFrame after dropping a column\n",
    "print(\"\\nUpdated DataFrame:\\n\",resDF)"
   ]
  },
  {
   "cell_type": "code",
   "execution_count": 5,
   "id": "27e8f54e-3161-44cf-a9cc-4fe743de729a",
   "metadata": {},
   "outputs": [
    {
     "name": "stdout",
     "output_type": "stream",
     "text": [
      "Student Records\n",
      "     id student  rank\n",
      "0  S01    Amit     1\n",
      "1  S02    John     4\n",
      "2  S03   Jacob     3\n",
      "3  S04   David     5\n",
      "4  S05   Steve     2\n",
      "\n",
      "Display the rows\n",
      "(0, id          S01\n",
      "student    Amit\n",
      "rank          1\n",
      "Name: 0, dtype: object)\n",
      "(1, id          S02\n",
      "student    John\n",
      "rank          4\n",
      "Name: 1, dtype: object)\n",
      "(2, id           S03\n",
      "student    Jacob\n",
      "rank           3\n",
      "Name: 2, dtype: object)\n",
      "(3, id           S04\n",
      "student    David\n",
      "rank           5\n",
      "Name: 3, dtype: object)\n",
      "(4, id           S05\n",
      "student    Steve\n",
      "rank           2\n",
      "Name: 4, dtype: object)\n"
     ]
    }
   ],
   "source": [
    "import pandas as pd\n",
    " \n",
    "# Dataset\n",
    "data = {\n",
    "  'id': [\"S01\", \"S02\", \"S03\", \"S04\", \"S05\"],\n",
    "  'student': [\"Amit\", \"John\", \"Jacob\", \"David\", \"Steve\"],\n",
    "  'rank': [1, 4, 3, 5, 2]\n",
    "}\n",
    " \n",
    "dataFrame = pd.DataFrame(data)\n",
    "print(\"Student Records\\n\", dataFrame)\n",
    " \n",
    "# Iterate over rows in the DataFrames\n",
    "print(\"\\nDisplay the rows\")\n",
    "for row in dataFrame.iterrows():\n",
    "  print(row)"
   ]
  },
  {
   "cell_type": "code",
   "execution_count": 6,
   "id": "92e54ce6-ac7b-4a35-84a0-5b8b5078d2f5",
   "metadata": {},
   "outputs": [
    {
     "name": "stdout",
     "output_type": "stream",
     "text": [
      "Student Records\n",
      "     id student  rank\n",
      "0  S01    Amit     1\n",
      "1  S02    John     4\n",
      "2  S03   Jacob     3\n",
      "3  S04   David     5\n",
      "4  S05   Steve     2\n",
      "\n",
      "Display records as a Tuple object\n",
      "Pandas(Index=0, id='S01', student='Amit', rank=1)\n",
      "Pandas(Index=1, id='S02', student='John', rank=4)\n",
      "Pandas(Index=2, id='S03', student='Jacob', rank=3)\n",
      "Pandas(Index=3, id='S04', student='David', rank=5)\n",
      "Pandas(Index=4, id='S05', student='Steve', rank=2)\n"
     ]
    }
   ],
   "source": [
    "import pandas as pd\n",
    " \n",
    "# Dataset\n",
    "data = {\n",
    "  'id': [\"S01\", \"S02\", \"S03\", \"S04\", \"S05\"],\n",
    "  'student': [\"Amit\", \"John\", \"Jacob\", \"David\", \"Steve\"],\n",
    "  'rank': [1, 4, 3, 5, 2]\n",
    "}\n",
    " \n",
    "dataFrame = pd.DataFrame(data)\n",
    "print(\"Student Records\\n\", dataFrame)\n",
    " \n",
    "# Iterate over rows in the DataFrames\n",
    "print(\"\\nDisplay records as a Tuple object\")\n",
    "for row in dataFrame.itertuples():\n",
    "  print(row)"
   ]
  },
  {
   "cell_type": "code",
   "execution_count": 7,
   "id": "936737b1-c32e-4b39-8c81-0607c6181009",
   "metadata": {},
   "outputs": [
    {
     "name": "stdout",
     "output_type": "stream",
     "text": [
      "Student Records\n",
      "\n",
      "id\n",
      "0    S01\n",
      "1    S02\n",
      "2    S03\n",
      "3    S04\n",
      "4    S05\n",
      "Name: id, dtype: object\n",
      "student\n",
      "0     Amit\n",
      "1     John\n",
      "2    Jacob\n",
      "3    David\n",
      "4    Steve\n",
      "Name: student, dtype: object\n",
      "rank\n",
      "0    1\n",
      "1    4\n",
      "2    3\n",
      "3    5\n",
      "4    2\n",
      "Name: rank, dtype: int64\n"
     ]
    }
   ],
   "source": [
    "import  pandas as pd\n",
    " \n",
    "# Dataset\n",
    "data = {\n",
    "  'id': [\"S01\", \"S02\", \"S03\", \"S04\", \"S05\"],\n",
    "  'student': [\"Amit\", \"John\", \"Jacob\", \"David\", \"Steve\"],\n",
    "  'rank': [1, 4, 3, 5, 2]\n",
    "}\n",
    " \n",
    "dataFrame = pd.DataFrame(data)\n",
    "print(\"Student Records\\n\")\n",
    " \n",
    "# Iterate over columns in the DataFrame\n",
    "for a, b in dataFrame.items():\n",
    "  print(a)\n",
    "  print(b)"
   ]
  },
  {
   "cell_type": "code",
   "execution_count": 8,
   "id": "4f7e8fbd-ade0-4f9b-8f1e-206ff2f134dc",
   "metadata": {},
   "outputs": [
    {
     "name": "stdout",
     "output_type": "stream",
     "text": [
      "Student Records\n",
      "\n",
      "      Student  Rank  Marks\n",
      "RowA    Amit     1     95\n",
      "RowB    John     4     70\n",
      "RowC   Jacob     3     80\n",
      "RowD   David     5     60\n",
      "RowE   Steve     2     90\n",
      "\n",
      "Sorting in ascending order:\n",
      "      Student  Rank  Marks\n",
      "RowA    Amit     1     95\n",
      "RowE   Steve     2     90\n",
      "RowC   Jacob     3     80\n",
      "RowB    John     4     70\n",
      "RowD   David     5     60\n"
     ]
    }
   ],
   "source": [
    "import pandas as pd\n",
    " \n",
    "# Dataset\n",
    "data = {\n",
    "    'Student': [\"Amit\", \"John\", \"Jacob\", \"David\", \"Steve\"],\n",
    "    'Rank': [1, 4, 3, 5, 2],\n",
    "    'Marks': [95, 70, 80, 60, 90]\n",
    "}\n",
    " \n",
    "# Create a DataFrame using the DataFrame() method with index\n",
    "res = pd.DataFrame(data, index=['RowA', 'RowB', 'RowC', 'RowD', 'RowE'], )\n",
    " \n",
    "# Display the Records\n",
    "print(\"Student Records\\n\\n\", res)\n",
    " \n",
    "# Sort the data in ascending order (default)\n",
    "# The data is sort by the 'Rank' column using the 'by' parameter\n",
    "print(\"\\nSorting in ascending order:\\n\", res.sort_values(by=['Rank']))"
   ]
  },
  {
   "cell_type": "code",
   "execution_count": 9,
   "id": "ba9528be-1b9a-426b-a226-8389bbbbf203",
   "metadata": {},
   "outputs": [
    {
     "name": "stdout",
     "output_type": "stream",
     "text": [
      "Student Records\n",
      "\n",
      "      Student  Rank  Marks\n",
      "RowA    Amit     1     95\n",
      "RowB    John     4     70\n",
      "RowC   Jacob     3     80\n",
      "RowD   David     5     60\n",
      "RowE   Steve     2     90\n",
      "\n",
      "Sorting in descending order:\n",
      "      Student  Rank  Marks\n",
      "RowD   David     5     60\n",
      "RowB    John     4     70\n",
      "RowC   Jacob     3     80\n",
      "RowE   Steve     2     90\n",
      "RowA    Amit     1     95\n"
     ]
    }
   ],
   "source": [
    "import pandas as pd\n",
    " \n",
    "# Dataset\n",
    "data = {\n",
    "    'Student': [\"Amit\", \"John\", \"Jacob\", \"David\", \"Steve\"],\n",
    "    'Rank': [1, 4, 3, 5, 2],\n",
    "    'Marks': [95, 70, 80, 60, 90]\n",
    "}\n",
    " \n",
    "# Create a DataFrame using the DataFrame() method with index\n",
    "res = pd.DataFrame(data, index=['RowA', 'RowB', 'RowC', 'RowD', 'RowE'], )\n",
    " \n",
    "# Display the Records\n",
    "print(\"Student Records\\n\\n\", res)\n",
    " \n",
    "# Sort the data in descending order using the 'ascending' parameter with 'False' value\n",
    "# The data is sort by the 'Rank' column using the 'by' parameter\n",
    "print(\"\\nSorting in descending order:\\n\", res.sort_values(by=['Rank'], ascending=False))\n",
    " "
   ]
  },
  {
   "cell_type": "code",
   "execution_count": 10,
   "id": "796004d2-5d8c-4ea8-a051-7701ef546050",
   "metadata": {},
   "outputs": [
    {
     "name": "stdout",
     "output_type": "stream",
     "text": [
      "Student Records\n",
      "\n",
      "   student  rank  marks\n",
      "0    Amit     1     95\n",
      "1    John     4     70\n",
      "2    Amit     1     95\n",
      "3   David     5     60\n",
      "4   Steve     3     90\n",
      "\n",
      "Describing Duplicates:\n",
      " 0    False\n",
      "1    False\n",
      "2     True\n",
      "3    False\n",
      "4    False\n",
      "dtype: bool\n"
     ]
    }
   ],
   "source": [
    "import pandas as pd\n",
    " \n",
    "# Dataset\n",
    "data = {\n",
    "    'student': [\"Amit\", \"John\", \"Amit\", \"David\", \"Steve\"],\n",
    "    'rank': [1, 4, 1, 5, 3],\n",
    "    'marks': [95, 70, 95, 60, 90]\n",
    "}\n",
    " \n",
    "df = pd.DataFrame(data)\n",
    " \n",
    "print(\"Student Records\\n\\n\", df)\n",
    " \n",
    "# Find duplicates\n",
    "res = df.duplicated()\n",
    "print(\"\\nDescribing Duplicates:\\n\",res)\n",
    " "
   ]
  },
  {
   "cell_type": "code",
   "execution_count": 11,
   "id": "31be2d42-8a6e-443e-9ba1-eb9445aae702",
   "metadata": {},
   "outputs": [
    {
     "name": "stdout",
     "output_type": "stream",
     "text": [
      "Student Records\n",
      "\n",
      "   student  rank  marks\n",
      "0    Amit     1     95\n",
      "1    John     4     70\n",
      "2    Amit     1     95\n",
      "3   David     5     60\n",
      "4   Steve     3     90\n",
      "\n",
      "New DataFrame after deleting duplicates:\n",
      "   student  rank  marks\n",
      "0    Amit     1     95\n",
      "1    John     4     70\n",
      "3   David     5     60\n",
      "4   Steve     3     90\n"
     ]
    }
   ],
   "source": [
    "import pandas as pd\n",
    " \n",
    "# Dataset\n",
    "data = {\n",
    "    'student': [\"Amit\", \"John\", \"Amit\", \"David\", \"Steve\"],\n",
    "    'rank': [1, 4, 1, 5, 3],\n",
    "    'marks': [95, 70, 95, 60, 90]\n",
    "}\n",
    " \n",
    "df = pd.DataFrame(data)\n",
    " \n",
    "print(\"Student Records\\n\\n\", df)\n",
    " \n",
    "# Delete duplicates using the drop_duplicates()\n",
    "res = df.drop_duplicates()\n",
    "print(\"\\nNew DataFrame after deleting duplicates:\\n\",res)\n",
    " "
   ]
  },
  {
   "cell_type": "code",
   "execution_count": 13,
   "id": "1904d23d-ea53-466b-845e-71f3be3436fd",
   "metadata": {},
   "outputs": [
    {
     "name": "stdout",
     "output_type": "stream",
     "text": [
      "Our DataFrame\n",
      "    Frequency  Points\n",
      "0        2.4    83.5\n",
      "1        3.2    21.6\n",
      "2        6.1     NaN\n",
      "3        1.2    45.9\n",
      "4        2.9    19.3\n",
      "5        3.8    29.9\n",
      "6        4.5     NaN\n",
      "7        8.3    66.3\n",
      "8        7.9    74.7\n",
      "9        5.8    67.5\n",
      "\n",
      "New DataFrame \n",
      "    Frequency  Points\n",
      "0      False   False\n",
      "1      False   False\n",
      "2      False    True\n",
      "3      False   False\n",
      "4      False   False\n",
      "5      False   False\n",
      "6      False    True\n",
      "7      False   False\n",
      "8      False   False\n",
      "9      False   False\n"
     ]
    }
   ],
   "source": [
    "import pandas as pd\n",
    " \n",
    "# Input CSV file\n",
    "df = pd.read_csv(r\"C:\\Users\\himab\\OneDrive\\Documents\\demo.csv\")\n",
    " \n",
    "# Display the CSV file records\n",
    "print(\"Our DataFrame\\n\",df)\n",
    " \n",
    "# Find and Replace Null with True\n",
    "resdf = df.isnull()\n",
    " \n",
    "# Return the new DataFrame\n",
    "print(\"\\nNew DataFrame \\n\",resdf.to_string())"
   ]
  },
  {
   "cell_type": "code",
   "execution_count": 14,
   "id": "ed0a411d-4c2b-41b4-9d09-8825f3e41ac7",
   "metadata": {},
   "outputs": [
    {
     "name": "stdout",
     "output_type": "stream",
     "text": [
      "Our DataFrame\n",
      "    Frequency  Points\n",
      "0        2.4    83.5\n",
      "1        3.2    21.6\n",
      "2        6.1     NaN\n",
      "3        1.2    45.9\n",
      "4        2.9    19.3\n",
      "5        3.8    29.9\n",
      "6        4.5     NaN\n",
      "7        8.3    66.3\n",
      "8        7.9    74.7\n",
      "9        5.8    67.5\n",
      "\n",
      "New DataFrame\n",
      "    Frequency  Points\n",
      "0       True    True\n",
      "1       True    True\n",
      "2       True   False\n",
      "3       True    True\n",
      "4       True    True\n",
      "5       True    True\n",
      "6       True   False\n",
      "7       True    True\n",
      "8       True    True\n",
      "9       True    True\n"
     ]
    }
   ],
   "source": [
    "import pandas as pd\n",
    " \n",
    "# Input CSV file\n",
    "df = pd.read_csv(r\"C:\\Users\\himab\\OneDrive\\Documents\\demo.csv\")\n",
    " \n",
    "# Display the CSV file records\n",
    "print(\"Our DataFrame\\n\",df)\n",
    " \n",
    "# Find and Replace NOT NULL values with True\n",
    "resdf = df.notnull()\n",
    " \n",
    "# Return the new DataFrame\n",
    "print(\"\\nNew DataFrame\\n\",resdf.to_string())"
   ]
  },
  {
   "cell_type": "code",
   "execution_count": 15,
   "id": "8b88f6ea-1344-4f86-b139-2685371e8ddf",
   "metadata": {},
   "outputs": [
    {
     "name": "stdout",
     "output_type": "stream",
     "text": [
      "Our DataFrame\n",
      "    Frequency  Points\n",
      "0        2.4    83.5\n",
      "1        3.2    21.6\n",
      "2        6.1     NaN\n",
      "3        1.2    45.9\n",
      "4        2.9    19.3\n",
      "5        3.8    29.9\n",
      "6        4.5     NaN\n",
      "7        8.3    66.3\n",
      "8        7.9    74.7\n",
      "9        5.8    67.5\n",
      "\n",
      "New DataFrame (after removing rows with NULL)\n",
      "    Frequency  Points\n",
      "0        2.4    83.5\n",
      "1        3.2    21.6\n",
      "3        1.2    45.9\n",
      "4        2.9    19.3\n",
      "5        3.8    29.9\n",
      "7        8.3    66.3\n",
      "8        7.9    74.7\n",
      "9        5.8    67.5\n"
     ]
    }
   ],
   "source": [
    "import  pandas as pd\n",
    " \n",
    "# Input CSV file\n",
    "df = pd.read_csv(r\"C:\\Users\\himab\\OneDrive\\Documents\\demo.csv\")\n",
    " \n",
    "# Display the CSV file records\n",
    "print(\"Our DataFrame\\n\",df)\n",
    " \n",
    "# Find and remove rows with NULL value\n",
    "resdf = df.dropna()\n",
    " \n",
    "# Return the new DataFrame\n",
    "print(\"\\nNew DataFrame (after removing rows with NULL)\\n\",resdf.to_string())"
   ]
  },
  {
   "cell_type": "code",
   "execution_count": 16,
   "id": "9effed55-7f83-41b6-84ae-7258a4387f7a",
   "metadata": {},
   "outputs": [
    {
     "name": "stdout",
     "output_type": "stream",
     "text": [
      "Our DataFrame\n",
      "    Frequency  Points\n",
      "0        2.4    83.5\n",
      "1        3.2    21.6\n",
      "2        6.1     NaN\n",
      "3        1.2    45.9\n",
      "4        2.9    19.3\n",
      "5        3.8    29.9\n",
      "6        4.5     NaN\n",
      "7        8.3    66.3\n",
      "8        7.9    74.7\n",
      "9        5.8    67.5\n",
      "\n",
      "New DataFrame (after replacing NULL with a specific value)\n",
      "    Frequency  Points\n",
      "0        2.4    83.5\n",
      "1        3.2    21.6\n",
      "2        6.1   111.0\n",
      "3        1.2    45.9\n",
      "4        2.9    19.3\n",
      "5        3.8    29.9\n",
      "6        4.5   111.0\n",
      "7        8.3    66.3\n",
      "8        7.9    74.7\n",
      "9        5.8    67.5\n"
     ]
    }
   ],
   "source": [
    "import pandas as pd\n",
    " \n",
    "# Input CSV file\n",
    "df = pd.read_csv(r\"C:\\Users\\himab\\OneDrive\\Documents\\demo.csv\")\n",
    " \n",
    "# Display the CSV file records\n",
    "print(\"Our DataFrame\\n\",df)\n",
    " \n",
    "# Find and replace NULL values with a specific value 111\n",
    "resdf = df.fillna(111)\n",
    " \n",
    "# Return the new DataFrame\n",
    "print(\"\\nNew DataFrame (after replacing NULL with a specific value)\\n\",resdf.to_string())"
   ]
  },
  {
   "cell_type": "code",
   "execution_count": 17,
   "id": "db12e904-5064-492c-b469-a9066b8f7c52",
   "metadata": {},
   "outputs": [
    {
     "name": "stdout",
     "output_type": "stream",
     "text": [
      "Series: \n",
      " 0     Jacob\n",
      "1      Amit\n",
      "2     TRENT\n",
      "3    Nathan\n",
      "4    MaRtIN\n",
      "dtype: object\n",
      "\n",
      "Lowercase data:\n",
      " 0     jacob\n",
      "1      amit\n",
      "2     trent\n",
      "3    nathan\n",
      "4    martin\n",
      "dtype: object\n"
     ]
    }
   ],
   "source": [
    "import  pandas as pd\n",
    " \n",
    "# Data to be stored in the Pandas Series\n",
    "data = ['Jacob', 'Amit', 'TRENT', 'Nathan', 'MaRtIN']\n",
    " \n",
    "# Create a Series using the Series() method\n",
    "s = pd.Series(data)\n",
    " \n",
    "# Display the Series\n",
    "print(\"Series: \\n\", s)\n",
    " \n",
    "# Convert the text data to lowercase\n",
    "print(\"\\nLowercase data:\\n\",s.str.lower())"
   ]
  },
  {
   "cell_type": "code",
   "execution_count": 18,
   "id": "72156ae8-4f64-4fdb-b614-4c3ed5844aac",
   "metadata": {},
   "outputs": [
    {
     "name": "stdout",
     "output_type": "stream",
     "text": [
      "Series: \n",
      " 0     jaCoB\n",
      "1      Amit\n",
      "2     trent\n",
      "3    Nathan\n",
      "4    MaRtIN\n",
      "dtype: object\n",
      "\n",
      "Uppercase data:\n",
      " 0     JACOB\n",
      "1      AMIT\n",
      "2     TRENT\n",
      "3    NATHAN\n",
      "4    MARTIN\n",
      "dtype: object\n"
     ]
    }
   ],
   "source": [
    "import pandas as pd\n",
    " \n",
    "# Data to be stored in the Pandas Series\n",
    "data = ['jaCoB', 'Amit', 'trent', 'Nathan', 'MaRtIN']\n",
    " \n",
    "# Create a Series using the Series() method\n",
    "s = pd.Series(data)\n",
    " \n",
    "# Display the Series\n",
    "print(\"Series: \\n\", s)\n",
    " \n",
    "# Convert the text data to uppercase\n",
    "print(\"\\nUppercase data:\\n\",s.str.upper())"
   ]
  },
  {
   "cell_type": "code",
   "execution_count": 19,
   "id": "442891da-34e6-486f-b194-1b4e86ba54dc",
   "metadata": {},
   "outputs": [
    {
     "name": "stdout",
     "output_type": "stream",
     "text": [
      "Series: \n",
      " 0     jaCoB\n",
      "1      Amit\n",
      "2     trent\n",
      "3    NATHan\n",
      "4    MaRtIN\n",
      "dtype: object\n",
      "\n",
      "Camel case data:\n",
      " 0     Jacob\n",
      "1      Amit\n",
      "2     Trent\n",
      "3    Nathan\n",
      "4    Martin\n",
      "dtype: object\n"
     ]
    }
   ],
   "source": [
    "import pandas as pd\n",
    " \n",
    "# Data to be stored in the Pandas Series\n",
    "data = ['jaCoB', 'Amit', 'trent', 'NATHan', 'MaRtIN']\n",
    " \n",
    "# Create a Series using the Series() method\n",
    "s = pd.Series(data)\n",
    " \n",
    "# Display the Series\n",
    "print(\"Series: \\n\", s)\n",
    " \n",
    "# Convert the text data to camel case\n",
    "print(\"\\nCamel case data:\\n\",s.str.title())"
   ]
  },
  {
   "cell_type": "code",
   "execution_count": 20,
   "id": "a9944da5-72c0-48be-a3cd-42cb2288eaa9",
   "metadata": {},
   "outputs": [
    {
     "name": "stdout",
     "output_type": "stream",
     "text": [
      "Series: \n",
      " 0     Jacob Oram\n",
      "1           Amit\n",
      "2          Trent\n",
      "3    Nathan Lyon\n",
      "4         Martin\n",
      "dtype: object\n",
      "\n",
      "Length:\n",
      " 0    10\n",
      "1     4\n",
      "2     5\n",
      "3    11\n",
      "4     6\n",
      "dtype: int64\n"
     ]
    }
   ],
   "source": [
    "import pandas as pd\n",
    " \n",
    "# Data to be stored in the Pandas Series\n",
    "data = ['Jacob Oram', 'Amit', 'Trent', 'Nathan Lyon', 'Martin']\n",
    " \n",
    "# Create a Series using the Series() method\n",
    "s = pd.Series(data)\n",
    " \n",
    "# Display the Series\n",
    "print(\"Series: \\n\", s)\n",
    " \n",
    "# Get the length of each element\n",
    "print(\"\\nLength:\\n\",s.str.len())"
   ]
  },
  {
   "cell_type": "code",
   "execution_count": 21,
   "id": "e7539493-f0ca-47d5-856b-8c50c92610e7",
   "metadata": {},
   "outputs": [
    {
     "name": "stdout",
     "output_type": "stream",
     "text": [
      "Series:\n",
      " 0            NaN\n",
      "1     Amit Diwan\n",
      "2          Trent\n",
      "3    Nathan Lyon\n",
      "4            NaN\n",
      "dtype: object\n",
      "\n",
      "Count:\n",
      " 3\n"
     ]
    }
   ],
   "source": [
    "import  numpy as np\n",
    "import pandas as pd\n",
    " \n",
    "# Data to be stored in the Pandas Series\n",
    "data = [np.nan, \"Amit Diwan\", \"Trent\", \"Nathan Lyon\", np.nan]\n",
    " \n",
    "# Create a Series using the Series() method\n",
    "series = pd.Series(data)\n",
    " \n",
    "# Display the Series\n",
    "print(\"Series:\\n\", series)\n",
    " \n",
    "# Get the count\n",
    "print(\"\\nCount:\\n\", series.count())"
   ]
  },
  {
   "cell_type": "code",
   "execution_count": 22,
   "id": "a3008342-7749-4a00-bcb5-ebb7ea7b7207",
   "metadata": {},
   "outputs": [
    {
     "name": "stdout",
     "output_type": "stream",
     "text": [
      "Series: \n",
      " 0     Jacob Oram\n",
      "1           Amit\n",
      "2          Trent\n",
      "3    Nathan Lyon\n",
      "4         Martin\n",
      "dtype: object\n",
      "\n",
      "Does the specific value exist?\n",
      " 0    False\n",
      "1     True\n",
      "2    False\n",
      "3    False\n",
      "4    False\n",
      "dtype: bool\n"
     ]
    }
   ],
   "source": [
    "import pandas as pd\n",
    " \n",
    "# Data to be stored in the Pandas Series\n",
    "data = ['Jacob Oram', 'Amit', 'Trent', 'Nathan Lyon', 'Martin']\n",
    " \n",
    "# Create a Series using the Series() method\n",
    "s = pd.Series(data)\n",
    " \n",
    "# Display the Series\n",
    "print(\"Series: \\n\", s)\n",
    " \n",
    "# Search for a specific value\n",
    "print(\"\\nDoes the specific value exist?\\n\",s.str.contains('Amit'))"
   ]
  },
  {
   "cell_type": "code",
   "execution_count": 23,
   "id": "54f0ca5c-10d9-4db1-b638-330b3457e53b",
   "metadata": {},
   "outputs": [
    {
     "name": "stdout",
     "output_type": "stream",
     "text": [
      "Current Date and Time\n",
      " 2025-02-03 21:28:39.720880\n"
     ]
    }
   ],
   "source": [
    "import pandas as pd\n",
    " \n",
    "print(\"Current Date and Time\\n\",pd.Timestamp.now())"
   ]
  },
  {
   "cell_type": "code",
   "execution_count": 24,
   "id": "af814471-d38b-45a7-bb85-419d5f4bd6b7",
   "metadata": {},
   "outputs": [
    {
     "name": "stdout",
     "output_type": "stream",
     "text": [
      "Date and Time =  2023-10-25 00:00:00\n",
      "Day of Week =  2\n"
     ]
    }
   ],
   "source": [
    "import pandas as pd\n",
    " \n",
    "# Timestamp\n",
    "timeStamp = pd.Timestamp(2023, 10, 25)\n",
    " \n",
    "# Display the date and time\n",
    "print(\"Date and Time = \",timeStamp)\n",
    " \n",
    "# Display the day of week\n",
    "print(\"Day of Week = \",timeStamp.dayofweek)"
   ]
  },
  {
   "cell_type": "code",
   "execution_count": 25,
   "id": "d01cdca9-f53c-4c62-9a1e-f1c193f756db",
   "metadata": {},
   "outputs": [
    {
     "name": "stdout",
     "output_type": "stream",
     "text": [
      "Date and Time =  2023-10-25 00:00:00\n",
      "Day of Year =  298\n"
     ]
    }
   ],
   "source": [
    "import pandas as pd\n",
    " \n",
    "# Timestamp\n",
    "timeStamp = pd.Timestamp(2023, 10, 25)\n",
    " \n",
    "# Display the date and time\n",
    "print(\"Date and Time = \",timeStamp)\n",
    " \n",
    "# Display the day of year\n",
    "print(\"Day of Year = \",timeStamp.dayofyear)"
   ]
  },
  {
   "cell_type": "code",
   "execution_count": 26,
   "id": "1b1a4688-efac-42d7-9fed-3103483daf72",
   "metadata": {},
   "outputs": [
    {
     "name": "stdout",
     "output_type": "stream",
     "text": [
      "Date and Time =  2023-10-25 00:00:00\n",
      "Days in the month =  31\n"
     ]
    }
   ],
   "source": [
    "import pandas as pd\n",
    " \n",
    "# Timestamp\n",
    "timeStamp = pd.Timestamp(2023, 10, 25)\n",
    " \n",
    "# Display the date and time\n",
    "print(\"Date and Time = \",timeStamp)\n",
    " \n",
    "# Display the number of days in the month\n",
    "print(\"Days in the month = \",timeStamp.daysinmonth)"
   ]
  },
  {
   "cell_type": "code",
   "execution_count": 27,
   "id": "09af9457-e98d-40cf-81cf-eca6a17f4e68",
   "metadata": {},
   "outputs": [
    {
     "name": "stdout",
     "output_type": "stream",
     "text": [
      "Date and Time =  2023-10-25 00:00:00\n",
      "Is this year leap year? =  False\n"
     ]
    }
   ],
   "source": [
    "import pandas as pd\n",
    " \n",
    "# Timestamp\n",
    "timeStamp = pd.Timestamp(2023, 10, 25)\n",
    " \n",
    "# Display the date and time\n",
    "print(\"Date and Time = \",timeStamp)\n",
    " \n",
    "# Check if the year is a leap year\n",
    "print(\"Is this year leap year? = \",timeStamp.is_leap_year )"
   ]
  },
  {
   "cell_type": "code",
   "execution_count": 28,
   "id": "85b9122d-b572-4ed3-9b1b-e7cc60dd64e7",
   "metadata": {},
   "outputs": [
    {
     "name": "stdout",
     "output_type": "stream",
     "text": [
      "Date and Time =  2023-10-31 00:00:00\n",
      "Is this the month end? =  True\n"
     ]
    }
   ],
   "source": [
    "import pandas as pd\n",
    " \n",
    "# Timestamp\n",
    "timeStamp = pd.Timestamp(2023, 10, 31)\n",
    " \n",
    "# Display the date and time\n",
    "print(\"Date and Time = \",timeStamp)\n",
    " \n",
    "# Check if the date is the end of the month\n",
    "print(\"Is this the month end? = \",timeStamp.is_month_end)"
   ]
  },
  {
   "cell_type": "code",
   "execution_count": 29,
   "id": "f3ff2b21-d65a-4114-b1ee-b19ef0eeb451",
   "metadata": {},
   "outputs": [
    {
     "name": "stdout",
     "output_type": "stream",
     "text": [
      "Date and Time =  2023-11-01 00:00:00\n",
      "Is this the first day of the month? =  True\n"
     ]
    }
   ],
   "source": [
    "import pandas as pd\n",
    " \n",
    "# Timestamp\n",
    "timeStamp = pd.Timestamp(2023, 11, 1)\n",
    " \n",
    "# Display the date and time\n",
    "print(\"Date and Time = \",timeStamp)\n",
    " \n",
    "# Check if the date is the first day of the month\n",
    "print(\"Is this the first day of the month? = \",timeStamp.is_month_start)"
   ]
  },
  {
   "cell_type": "code",
   "execution_count": 30,
   "id": "9657d2d1-0bfc-4228-a6fd-67e8a75e5d0f",
   "metadata": {},
   "outputs": [
    {
     "name": "stdout",
     "output_type": "stream",
     "text": [
      "Date and Time =  2023-12-31 00:00:00\n",
      "Is this the last day of the year? =  True\n"
     ]
    }
   ],
   "source": [
    "import pandas as pd\n",
    " \n",
    "# Timestamp\n",
    "timeStamp = pd.Timestamp(2023, 12, 31)\n",
    " \n",
    "# Display the date and time\n",
    "print(\"Date and Time = \",timeStamp)\n",
    " \n",
    "# Check if the date is the last day of the year\n",
    "print(\"Is this the last day of the year? = \",timeStamp.is_year_end)"
   ]
  },
  {
   "cell_type": "code",
   "execution_count": 31,
   "id": "8189f9b6-53b0-4f1c-8b88-d483c8b4d61e",
   "metadata": {},
   "outputs": [
    {
     "name": "stdout",
     "output_type": "stream",
     "text": [
      "Date and Time =  2024-01-01 00:00:00\n",
      "Is this the first day of the year? =  True\n"
     ]
    }
   ],
   "source": [
    "import pandas as pd\n",
    " \n",
    "# Timestamp\n",
    "timeStamp = pd.Timestamp(2024, 1, 1)\n",
    " \n",
    "# Display the date and time\n",
    "print(\"Date and Time = \",timeStamp)\n",
    " \n",
    "# Check if the date is the first day of the year\n",
    "print(\"Is this the first day of the year? = \",timeStamp.is_year_start)"
   ]
  },
  {
   "cell_type": "code",
   "execution_count": 32,
   "id": "66e60d08-6fbb-4d90-816e-7019e93ade96",
   "metadata": {},
   "outputs": [
    {
     "name": "stdout",
     "output_type": "stream",
     "text": [
      "Series:\n",
      " 0      !Jacob\n",
      "1    Amit\\n\\n\n",
      "2       Trent\n",
      "3    Nathan\\t\n",
      "4      Martin\n",
      "dtype: object\n",
      "\n",
      "Strip from both the sides\n",
      " 0     Jacob\n",
      "1      Amit\n",
      "2     Trent\n",
      "3    Nathan\n",
      "4    Martin\n",
      "dtype: object\n"
     ]
    }
   ],
   "source": [
    "# strip() method in Python Pandas\n",
    "# Code by Studyopedia\n",
    " \n",
    "import pandas as pd\n",
    " \n",
    "# Data to be stored in the Pandas Series\n",
    "data = [\"!Jacob\", \"Amit\\n\\n\", \"Trent\", \"Nathan\\t\", \"Martin\"]\n",
    " \n",
    "# Create a Series using the Series() method\n",
    "series = pd.Series(data)\n",
    " \n",
    "# Display the Series\n",
    "print(\"Series:\\n\", series)\n",
    " \n",
    "# Strip the values\n",
    "print(\"\\nStrip from both the sides\\n\",series.str.strip(\"!\\n\\t\"))"
   ]
  },
  {
   "cell_type": "code",
   "execution_count": 33,
   "id": "16d96760-4638-4f96-9c54-1450bed3f26e",
   "metadata": {},
   "outputs": [
    {
     "name": "stdout",
     "output_type": "stream",
     "text": [
      "Series:\n",
      " 0          !Jacob\n",
      "1    \\n\\tAmit\\n\\n\n",
      "2         !Trent!\n",
      "3        Nathan\\t\n",
      "4          Martin\n",
      "dtype: object\n",
      "\n",
      "Strip from the left side:\n",
      " 0       Jacob\n",
      "1    Amit\\n\\n\n",
      "2      Trent!\n",
      "3    Nathan\\t\n",
      "4      Martin\n",
      "dtype: object\n"
     ]
    }
   ],
   "source": [
    "# lstrip() method in Python Pandas\n",
    "# Code by Studyopedia\n",
    " \n",
    "import pandas as pd\n",
    " \n",
    "# Data to be stored in the Pandas Series\n",
    "data = [\"!Jacob\", \"\\n\\tAmit\\n\\n\", \"!Trent!\", \"Nathan\\t\", \"Martin\"]\n",
    " \n",
    "# Create a Series using the Series() method\n",
    "series = pd.Series(data)\n",
    " \n",
    "# Display the Series\n",
    "print(\"Series:\\n\", series)\n",
    " \n",
    "# Strip from the left\n",
    "print(\"\\nStrip from the left side:\\n\", series.str.lstrip(\"!\\n\\t\"))"
   ]
  },
  {
   "cell_type": "code",
   "execution_count": 34,
   "id": "74346594-2b86-47cc-91ef-ae0fa9c99d4c",
   "metadata": {},
   "outputs": [
    {
     "name": "stdout",
     "output_type": "stream",
     "text": [
      "Series:\n",
      " 0          !Jacob\n",
      "1    \\n\\tAmit\\n\\n\n",
      "2         !Trent!\n",
      "3        Nathan\\t\n",
      "4          Martin\n",
      "dtype: object\n",
      "\n",
      "Remove from the right:\n",
      " 0      !Jacob\n",
      "1    \\n\\tAmit\n",
      "2      !Trent\n",
      "3      Nathan\n",
      "4      Martin\n",
      "dtype: object\n"
     ]
    }
   ],
   "source": [
    "# rstrip() method in Python  Pandas\n",
    "# Code by Studyopedia\n",
    " \n",
    "import  pandas as pd\n",
    " \n",
    "# Data to be stored in the Pandas Series\n",
    "data = [\"!Jacob\", \"\\n\\tAmit\\n\\n\", \"!Trent!\", \"Nathan\\t\", \"Martin\"]\n",
    " \n",
    "# Create a Series using the Series() method\n",
    "series = pd.Series(data)\n",
    " \n",
    "# Display the Series\n",
    "print(\"Series:\\n\", series)\n",
    " \n",
    "# Remove characters from the right side\n",
    "print(\"\\nRemove from the right:\\n\", series.str.rstrip(\"\\n\\t!\"))\n",
    " "
   ]
  },
  {
   "cell_type": "code",
   "execution_count": 35,
   "id": "abf0b962-23a0-44db-906d-ee7c54956771",
   "metadata": {},
   "outputs": [
    {
     "name": "stdout",
     "output_type": "stream",
     "text": [
      "Player Records\n",
      "\n",
      "   Player  Rank  Year\n",
      "0   Amit     1  2023\n",
      "1   John     4  2022\n",
      "2   Amit     3  2021\n",
      "3  David     5  2022\n",
      "4  Steve     2  2018\n",
      "5   John     7  2019\n",
      "\n",
      "         Rank  Year\n",
      "Player            \n",
      "Amit       1  2023\n",
      "David      5  2022\n",
      "John       4  2022\n",
      "Steve      2  2018\n"
     ]
    }
   ],
   "source": [
    "import  pandas as pd\n",
    " \n",
    "# Our Dataset\n",
    "data = {\n",
    "    'Player': [\"Amit\", \"John\", \"Amit\", \"David\", \"Steve\", \"John\"],\n",
    "    'Rank': [1, 4, 3, 5, 2, 7],\n",
    "    'Year': [2023, 2022, 2021, 2022, 2018, 2019]\n",
    "}\n",
    " \n",
    "# Our DataFrame\n",
    "df = pd.DataFrame(data)\n",
    " \n",
    "# Display the records\n",
    "print(\"Player Records\\n\\n\", df)\n",
    " \n",
    "# Group the data on Player value\n",
    "res = df.groupby('Player')\n",
    " \n",
    "# Print the first entry\n",
    "print(\"\\n\", res.first())"
   ]
  },
  {
   "cell_type": "code",
   "execution_count": 36,
   "id": "bf59e8e6-2d5f-40ea-b18b-816c24f03aab",
   "metadata": {},
   "outputs": [
    {
     "name": "stdout",
     "output_type": "stream",
     "text": [
      "Player Records\n",
      "\n",
      "   Player  Rank  Year\n",
      "0   Amit     1  2023\n",
      "1   John     4  2022\n",
      "2   Amit     3  2021\n",
      "3  David     5  2022\n",
      "4  Steve     2  2018\n",
      "5   John     7  2019\n",
      "\n",
      " Amit\n",
      "  Player  Rank  Year\n",
      "0   Amit     1  2023\n",
      "2   Amit     3  2021\n",
      "\n",
      " David\n",
      "  Player  Rank  Year\n",
      "3  David     5  2022\n",
      "\n",
      " John\n",
      "  Player  Rank  Year\n",
      "1   John     4  2022\n",
      "5   John     7  2019\n",
      "\n",
      " Steve\n",
      "  Player  Rank  Year\n",
      "4  Steve     2  2018\n"
     ]
    }
   ],
   "source": [
    "import pandas as pd\n",
    " \n",
    "# Our Dataset\n",
    "data = {\n",
    "    'Player': [\"Amit\", \"John\", \"Amit\", \"David\", \"Steve\", \"John\"],\n",
    "    'Rank': [1, 4, 3, 5, 2, 7],\n",
    "    'Year': [2023, 2022, 2021, 2022, 2018, 2019]\n",
    "}\n",
    " \n",
    "# Our DataFrame\n",
    "df = pd.DataFrame(data)\n",
    " \n",
    "# Display the records\n",
    "print(\"Player Records\\n\\n\", df)\n",
    " \n",
    "# Group by Player\n",
    "groupRes = df.groupby('Player')\n",
    " \n",
    "for name,group in groupRes:\n",
    "   print(\"\\n\",name)\n",
    "   print(group)"
   ]
  },
  {
   "cell_type": "code",
   "execution_count": 37,
   "id": "23c9a907-c92b-44e6-8ea8-21d68f63fc17",
   "metadata": {},
   "outputs": [
    {
     "name": "stdout",
     "output_type": "stream",
     "text": [
      "Player Records\n",
      "\n",
      "   Player  Rank  Year\n",
      "0   Amit     1  2023\n",
      "1   John     4  2022\n",
      "2   Amit     3  2021\n",
      "3  David     5  2022\n",
      "4  Steve     2  2018\n",
      "5   John     7  2019\n",
      "{'Amit': [0, 2], 'David': [3], 'John': [1, 5], 'Steve': [4]}\n"
     ]
    }
   ],
   "source": [
    "import pandas as pd\n",
    " \n",
    "# Our Dataset\n",
    "data = {\n",
    "    'Player': [\"Amit\", \"John\", \"Amit\", \"David\", \"Steve\", \"John\"],\n",
    "    'Rank': [1, 4, 3, 5, 2, 7],\n",
    "    'Year': [2023, 2022, 2021, 2022, 2018, 2019]\n",
    "}\n",
    " \n",
    "# Our DataFrame\n",
    "df = pd.DataFrame(data)\n",
    " \n",
    "# Display the records\n",
    "print(\"Player Records\\n\\n\", df)\n",
    " \n",
    "# Group by Player and Display\n",
    "print(df.groupby('Player').groups)"
   ]
  },
  {
   "cell_type": "code",
   "execution_count": 38,
   "id": "7fd065db-8265-4674-9851-81c708b47367",
   "metadata": {},
   "outputs": [
    {
     "name": "stdout",
     "output_type": "stream",
     "text": [
      "Player Records\n",
      "\n",
      "   Player  Rank  Points  Year\n",
      "0   Amit     1      95  2023\n",
      "1   John     4      70  2022\n",
      "2   Amit     3      65  2021\n",
      "3  David     5      80  2022\n",
      "4  Steve     2      90  2023\n",
      "5   John     7      50  2019\n",
      "\n",
      " Year\n",
      "2019    50.0\n",
      "2021    65.0\n",
      "2022    75.0\n",
      "2023    92.5\n",
      "Name: Points, dtype: float64\n"
     ]
    },
    {
     "name": "stderr",
     "output_type": "stream",
     "text": [
      "C:\\Users\\himab\\AppData\\Local\\Temp\\ipykernel_17304\\2459005783.py:22: FutureWarning: The provided callable <function mean at 0x0000028746C56CA0> is currently using SeriesGroupBy.mean. In a future version of pandas, the provided callable will be used directly. To keep current behavior pass the string \"mean\" instead.\n",
      "  print(\"\\n\",groupRes['Points'].agg(np.mean))\n"
     ]
    }
   ],
   "source": [
    "import pandas as pd\n",
    "import numpy as np\n",
    " \n",
    "# Our Dataset\n",
    "data = {\n",
    "    'Player': [\"Amit\", \"John\", \"Amit\", \"David\", \"Steve\", \"John\"],\n",
    "    'Rank': [1, 4, 3, 5, 2, 7],\n",
    "    'Points': [95, 70, 65, 80, 90, 50],\n",
    "    'Year': [2023, 2022, 2021, 2022, 2023, 2019]\n",
    "}\n",
    " \n",
    "# Our DataFrame\n",
    "df = pd.DataFrame(data)\n",
    " \n",
    "# Display the records\n",
    "print(\"Player Records\\n\\n\", df)\n",
    " \n",
    "# Use the groupby() to group\n",
    "groupRes = df.groupby('Year')\n",
    " \n",
    "# The agg() is used to perform aggregation\n",
    "print(\"\\n\",groupRes['Points'].agg(np.mean))"
   ]
  },
  {
   "cell_type": "code",
   "execution_count": 39,
   "id": "2ce7df70-fa11-4654-bcc3-b17eee4cb136",
   "metadata": {},
   "outputs": [
    {
     "name": "stdout",
     "output_type": "stream",
     "text": [
      "Player Records\n",
      "\n",
      "   Player  Rank  Points  Year\n",
      "0   Amit     1      95  2023\n",
      "1   John     4      70  2022\n",
      "2   Amit     3      65  2021\n",
      "3  David     5      80  2022\n",
      "4  Steve     2      90  2023\n",
      "5   John     7      50  2019\n",
      "\n",
      "         Rank  Points  Year\n",
      "Player                    \n",
      "Amit       2       2     2\n",
      "David      1       1     1\n",
      "John       2       2     2\n",
      "Steve      1       1     1\n"
     ]
    }
   ],
   "source": [
    "import pandas as pd\n",
    "import numpy as np\n",
    " \n",
    "# Our Dataset\n",
    "data = {\n",
    "    'Player': [\"Amit\", \"John\", \"Amit\", \"David\", \"Steve\", \"John\"],\n",
    "    'Rank': [1, 4, 3, 5, 2, 7],\n",
    "    'Points': [95, 70, 65, 80, 90, 50],\n",
    "    'Year': [2023, 2022, 2021, 2022, 2023, 2019]\n",
    "}\n",
    " \n",
    "# Our DataFrame\n",
    "df = pd.DataFrame(data)\n",
    " \n",
    "# Display the records\n",
    "print(\"Player Records\\n\\n\", df)\n",
    " \n",
    "# Use the groupby() to group\n",
    "groupRes = df.groupby('Player')\n",
    " \n",
    "# The agg() is used to perform aggregation\n",
    "# The numpy.size attribute returns the size of each group\n",
    "print(\"\\n\",groupRes.agg(np.size))"
   ]
  },
  {
   "cell_type": "code",
   "execution_count": 40,
   "id": "92647e99-3744-4059-bf0b-8b6d12416b04",
   "metadata": {},
   "outputs": [
    {
     "name": "stdout",
     "output_type": "stream",
     "text": [
      "DataFrame = \n",
      "    Maths  Science  English\n",
      "0     90       92       95\n",
      "1     85       87       94\n",
      "2     98       59       84\n",
      "3     80       64       75\n",
      "4     55       87       67\n",
      "5     78       96       65\n",
      "\n",
      "Sum = \n",
      " Maths      486\n",
      "Science    485\n",
      "English    480\n",
      "dtype: int64\n"
     ]
    }
   ],
   "source": [
    "import pandas as pd\n",
    " \n",
    "# Dataset\n",
    "data = {\n",
    "  'Maths': [90, 85, 98, 80, 55, 78],\n",
    "  'Science': [92, 87, 59, 64, 87, 96],\n",
    "  'English': [95, 94, 84, 75, 67, 65]\n",
    "}\n",
    " \n",
    "# DataFrame \n",
    "df = pd.DataFrame(data)\n",
    " \n",
    "# Display the DataFrame\n",
    "print(\"DataFrame = \\n\",df)\n",
    " \n",
    "# Display the Sum of Marks in each column \n",
    "print(\"\\nSum = \\n\",df.sum())"
   ]
  },
  {
   "cell_type": "code",
   "execution_count": 41,
   "id": "5b506edc-76b0-4ce2-b19d-227b82ea2727",
   "metadata": {},
   "outputs": [
    {
     "name": "stdout",
     "output_type": "stream",
     "text": [
      "DataFrame = \n",
      "    Maths  Science  English\n",
      "0   90.0     92.0     95.0\n",
      "1   85.0     87.0      NaN\n",
      "2   98.0     59.0     84.0\n",
      "3    NaN      NaN     75.0\n",
      "4   55.0      NaN     67.0\n",
      "5   78.0     96.0      NaN\n",
      "\n",
      "Count of non-empty values = \n",
      " Maths      5\n",
      "Science    4\n",
      "English    4\n",
      "dtype: int64\n"
     ]
    }
   ],
   "source": [
    "import pandas as pd\n",
    " \n",
    "# Dataset\n",
    "data = {\n",
    "  'Maths': [90, 85, 98, None, 55, 78],\n",
    "  'Science': [92, 87, 59, None, None, 96],\n",
    "  'English': [95, None, 84, 75, 67, None]\n",
    "}\n",
    " \n",
    "# DataFrame \n",
    "df = pd.DataFrame(data)\n",
    " \n",
    "# Display the DataFrame\n",
    "print(\"DataFrame = \\n\",df)\n",
    " \n",
    "# Display the Count of non-empty values in each column \n",
    "print(\"\\nCount of non-empty values = \\n\",df.count())\n",
    " "
   ]
  },
  {
   "cell_type": "code",
   "execution_count": 42,
   "id": "f8f75890-e1a0-41e4-88ef-bd486be783a1",
   "metadata": {},
   "outputs": [
    {
     "name": "stdout",
     "output_type": "stream",
     "text": [
      "DataFrame = \n",
      "    Maths  Science  English\n",
      "0     90       92       95\n",
      "1     85       87       94\n",
      "2     98       59       84\n",
      "3     80       64       75\n",
      "4     55       87       67\n",
      "5     78       96       65\n",
      "\n",
      "Maximum Marks = \n",
      " Maths      98\n",
      "Science    96\n",
      "English    95\n",
      "dtype: int64\n"
     ]
    }
   ],
   "source": [
    "import  pandas as pd\n",
    " \n",
    "# Dataset\n",
    "data = {\n",
    "  'Maths': [90, 85, 98, 80, 55, 78],\n",
    "  'Science': [92, 87, 59, 64, 87, 96],\n",
    "  'English': [95, 94, 84, 75, 67, 65]\n",
    "}\n",
    " \n",
    "# DataFrame \n",
    "df = pd.DataFrame(data)\n",
    " \n",
    "# Display the DataFrame\n",
    "print(\"DataFrame = \\n\",df)\n",
    " \n",
    "# Display the Maximum of Marks in each column \n",
    "print(\"\\nMaximum Marks = \\n\",df.max())\n",
    " "
   ]
  },
  {
   "cell_type": "code",
   "execution_count": 43,
   "id": "3a77c36a-6bbd-46aa-a713-d495146e4c1a",
   "metadata": {},
   "outputs": [
    {
     "name": "stdout",
     "output_type": "stream",
     "text": [
      "DataFrame = \n",
      "    Maths  Science  English\n",
      "0     90       92       95\n",
      "1     85       87       94\n",
      "2     98       59       84\n",
      "3     80       64       75\n",
      "4     55       87       67\n",
      "5     78       96       65\n",
      "\n",
      "Minimum Marks = \n",
      " Maths      55\n",
      "Science    59\n",
      "English    65\n",
      "dtype: int64\n"
     ]
    }
   ],
   "source": [
    "import pandas as pd\n",
    " \n",
    "# Dataset\n",
    "data = {\n",
    "  'Maths': [90, 85, 98, 80, 55, 78],\n",
    "  'Science': [92, 87, 59, 64, 87, 96],\n",
    "  'English': [95, 94, 84, 75, 67, 65]\n",
    "}\n",
    " \n",
    "# DataFrame \n",
    "df = pd.DataFrame(data)\n",
    " \n",
    "# Display the DataFrame\n",
    "print(\"DataFrame = \\n\",df)\n",
    " \n",
    "# Display the Minimum of Marks in each column \n",
    "print(\"\\nMinimum Marks = \\n\",df.min())"
   ]
  },
  {
   "cell_type": "code",
   "execution_count": 44,
   "id": "10ea8848-8234-4436-8f90-1a4b94286408",
   "metadata": {},
   "outputs": [
    {
     "name": "stdout",
     "output_type": "stream",
     "text": [
      "DataFrame = \n",
      "    Maths  Science  English\n",
      "0     90       92       95\n",
      "1     85       87       94\n",
      "2     98       59       84\n",
      "3     80       64       75\n",
      "4     55       87       67\n",
      "5     78       96       65\n",
      "\n",
      "Mean = \n",
      " Maths      81.000000\n",
      "Science    80.833333\n",
      "English    80.000000\n",
      "dtype: float64\n"
     ]
    }
   ],
   "source": [
    "import pandas as pd\n",
    " \n",
    "# Dataset\n",
    "data = {\n",
    "  'Maths': [90, 85, 98, 80, 55, 78],\n",
    "  'Science': [92, 87, 59, 64, 87, 96],\n",
    "  'English': [95, 94, 84, 75, 67, 65]\n",
    "}\n",
    " \n",
    "# DataFrame \n",
    "df = pd.DataFrame(data)\n",
    " \n",
    "# Display the DataFrame\n",
    "print(\"DataFrame = \\n\",df)\n",
    " \n",
    "# Display the Mean of Marks in each column\n",
    "print(\"\\nMean = \\n\",df.mean())"
   ]
  },
  {
   "cell_type": "code",
   "execution_count": 45,
   "id": "a62fb4aa-9b9e-423f-ae71-1d35c8ee1816",
   "metadata": {},
   "outputs": [
    {
     "name": "stdout",
     "output_type": "stream",
     "text": [
      "DataFrame = \n",
      "    Maths  Science  English\n",
      "0     90       92       95\n",
      "1     85       87       94\n",
      "2     98       59       84\n",
      "3     80       64       75\n",
      "4     55       87       67\n",
      "5     78       96       65\n",
      "\n",
      "Median = \n",
      " Maths      82.5\n",
      "Science    87.0\n",
      "English    79.5\n",
      "dtype: float64\n"
     ]
    }
   ],
   "source": [
    "import pandas as pd\n",
    " \n",
    "# Dataset\n",
    "data = {\n",
    "  'Maths': [90, 85, 98, 80, 55, 78],\n",
    "  'Science': [92, 87, 59, 64, 87, 96],\n",
    "  'English': [95, 94, 84, 75, 67, 65]\n",
    "}\n",
    " \n",
    "# DataFrame \n",
    "df = pd.DataFrame(data)\n",
    " \n",
    "# Display the DataFrame\n",
    "print(\"DataFrame = \\n\",df)\n",
    " \n",
    "# Display the Median of Marks in each column \n",
    "print(\"\\nMedian = \\n\",df.median())"
   ]
  },
  {
   "cell_type": "code",
   "execution_count": 46,
   "id": "862b7986-d71b-4766-a6f3-708ff151b356",
   "metadata": {},
   "outputs": [
    {
     "name": "stdout",
     "output_type": "stream",
     "text": [
      "DataFrame = \n",
      "    Maths  Science  English\n",
      "0     90       92       95\n",
      "1     85       87       94\n",
      "2     98       59       84\n",
      "3     80       64       75\n",
      "4     55       87       67\n",
      "5     78       96       65\n",
      "\n",
      "Standard Deviation = \n",
      " Maths      14.642404\n",
      "Science    15.432649\n",
      "English    13.084342\n",
      "dtype: float64\n"
     ]
    }
   ],
   "source": [
    "import pandas as pd\n",
    " \n",
    "# Dataset\n",
    "data = {\n",
    "  'Maths': [90, 85, 98, 80, 55, 78],\n",
    "  'Science': [92, 87, 59, 64, 87, 96],\n",
    "  'English': [95, 94, 84, 75, 67, 65]\n",
    "}\n",
    " \n",
    "# DataFrame \n",
    "df = pd.DataFrame(data)\n",
    " \n",
    "# Display the DataFrame\n",
    "print(\"DataFrame = \\n\",df)\n",
    " \n",
    "# Display the Standard Deviation of Marks in each column \n",
    "print(\"\\nStandard Deviation = \\n\",df.std())\n",
    " "
   ]
  },
  {
   "cell_type": "code",
   "execution_count": 47,
   "id": "f87ca76b-4a4b-4f42-9961-b4cf87b2c5b3",
   "metadata": {},
   "outputs": [
    {
     "name": "stdout",
     "output_type": "stream",
     "text": [
      "DataFrame = \n",
      "    Maths   Science  English\n",
      "0   90.0      92.0     95.0\n",
      "1   85.0      87.0      NaN\n",
      "2   98.0      59.0     84.0\n",
      "3    NaN       NaN     75.0\n",
      "4   55.0       NaN     67.0\n",
      "5   78.0      96.0      NaN\n",
      "\n",
      "Summary of  Statistics = \n",
      "           Maths    Science    English\n",
      "count   5.00000   4.000000   4.000000\n",
      "mean   81.20000  83.500000  80.250000\n",
      "std    16.36154  16.743158  12.038134\n",
      "min    55.00000  59.000000  67.000000\n",
      "25%    78.00000  80.000000  73.000000\n",
      "50%    85.00000  89.500000  79.500000\n",
      "75%    90.00000  93.000000  86.750000\n",
      "max    98.00000  96.000000  95.000000\n"
     ]
    }
   ],
   "source": [
    "import pandas as pd\n",
    " \n",
    "# Dataset\n",
    "data = {\n",
    "  'Maths': [90, 85, 98, None, 55, 78],\n",
    "  ' Science': [92, 87, 59, None, None, 96],\n",
    "  'English': [95, None, 84, 75, 67, None]\n",
    "}\n",
    " \n",
    "# DataFrame \n",
    "df = pd.DataFrame(data)\n",
    " \n",
    "# Display the DataFrame\n",
    "print(\"DataFrame = \\n\",df)\n",
    " \n",
    "# Display the summary using the describe() method\n",
    "print(\"\\nSummary of  Statistics = \\n\",df.describe())"
   ]
  },
  {
   "cell_type": "code",
   "execution_count": 48,
   "id": "22dd532c-dd41-475f-8823-436d3c655b24",
   "metadata": {},
   "outputs": [
    {
     "data": {
      "image/png": "[encoded data removed]",
      "text/plain": [
       "<Figure size 640x480 with 1 Axes>"
      ]
     },
     "metadata": {},
     "output_type": "display_data"
    }
   ],
   "source": [
    "import pandas as pd\n",
    "import matplotlib.pyplot as plt\n",
    " \n",
    "# Dataset\n",
    "data = {\n",
    "    'Temperature': [18, 20, 22, 19, 23, 24, 28, 26, 17, 25],\n",
    "    'Humidity': [32, 31, 30, 22, 17, 29, 32, 27, 20, 19],\n",
    "    'Wind': [12, 20, 8, 9, 30, 27, 22, 33, 37, 35],\n",
    "    'Precipitation':[17, 25, 20, 19, 18, 30, 28, 26, 29, 22]\n",
    "}\n",
    " \n",
    "df = pd.DataFrame(data)\n",
    " \n",
    "df.plot()\n",
    " \n",
    "plt.show()"
   ]
  },
  {
   "cell_type": "code",
   "execution_count": 49,
   "id": "05fae508-af25-47af-93cf-c2ace695ad05",
   "metadata": {},
   "outputs": [
    {
     "data": {
      "image/png": "[encoded data removed]",
      "text/plain": [
       "<Figure size 640x480 with 1 Axes>"
      ]
     },
     "metadata": {},
     "output_type": "display_data"
    }
   ],
   "source": [
    "import pandas as pd\n",
    "import matplotlib.pyplot as plt\n",
    " \n",
    "# Dataset\n",
    "data = {\n",
    "    'Temperature': [18, 20, 22, 19, 23, 24, 28, 26, 17, 25],\n",
    "    'Humidity': [32, 31, 30, 22, 17, 29, 32, 27, 20, 19],\n",
    "    'Wind': [12, 20, 8, 9, 30, 27, 22, 33, 37, 35],\n",
    "    'Precipitation':[17, 25, 20, 19, 18, 30, 28, 26, 29, 22]\n",
    "}\n",
    " \n",
    "df = pd.DataFrame(data)\n",
    " \n",
    "df[\"Humidity\"].plot(kind = 'hist')\n",
    " \n",
    "plt.show()"
   ]
  },
  {
   "cell_type": "code",
   "execution_count": 50,
   "id": "e13b6cac-2654-4628-a908-4cbf895c1e35",
   "metadata": {},
   "outputs": [
    {
     "data": {
      "image/png": "[encoded data removed]",
      "text/plain": [
       "<Figure size 640x480 with 1 Axes>"
      ]
     },
     "metadata": {},
     "output_type": "display_data"
    }
   ],
   "source": [
    "import pandas as pd\n",
    "import matplotlib.pyplot as plt\n",
    " \n",
    "# Dataset\n",
    "data = {\n",
    "    'Temperature': [18, 20, 22, 19, 23, 24, 28, 26, 17, 25],\n",
    "    'Humidity': [32, 31, 30, 22, 17, 29, 32, 27, 20, 19],\n",
    "    'Wind': [12, 20, 8, 9, 30, 27, 22, 33, 37, 35],\n",
    "    'Precipitation':[17, 25, 20, 19, 18, 30, 28, 26, 29, 22]\n",
    "}\n",
    " \n",
    "df = pd.DataFrame(data,  index=['City1', 'City2', 'City3', 'City4', 'City5', 'City6','City7', 'City8', 'City9','City10' ])\n",
    " \n",
    "df.plot.pie(y='Humidity')\n",
    " \n",
    "plt.show()"
   ]
  },
  {
   "cell_type": "code",
   "execution_count": 51,
   "id": "38901247-04f8-4157-b1eb-3ea352a25150",
   "metadata": {},
   "outputs": [
    {
     "data": {
      "image/png": "[encoded data removed]",
      "text/plain": [
       "<Figure size 640x480 with 1 Axes>"
      ]
     },
     "metadata": {},
     "output_type": "display_data"
    }
   ],
   "source": [
    "import pandas as pd\n",
    "import matplotlib.pyplot as plt\n",
    " \n",
    "# Dataset\n",
    "data = {\n",
    "    'Temperature': [18, 20, 22, 19, 23, 24, 28, 26, 17, 25],\n",
    "    'Humidity': [32, 31, 30, 22, 17, 29, 32, 27, 20, 19],\n",
    "    'Wind': [12, 20, 8, 9, 30, 27, 22, 33, 37, 35],\n",
    "    'Precipitation':[17, 25, 20, 19, 18, 30, 28, 26, 29, 22]\n",
    "}\n",
    " \n",
    "df = pd.DataFrame(data)\n",
    " \n",
    "df.plot(kind = 'scatter', x = 'Temperature', y = 'Humidity')\n",
    " \n",
    "plt.show()"
   ]
  },
  {
   "cell_type": "code",
   "execution_count": 52,
   "id": "0fe200b0-0d89-4a89-bddf-2a21cb2d1b65",
   "metadata": {},
   "outputs": [
    {
     "data": {
      "image/png": "[encoded data removed]",
      "text/plain": [
       "<Figure size 640x480 with 1 Axes>"
      ]
     },
     "metadata": {},
     "output_type": "display_data"
    }
   ],
   "source": [
    "import pandas as pd\n",
    "import matplotlib.pyplot as plt\n",
    " \n",
    "# Dataset\n",
    "data = {\n",
    "    'Temperature': [18, 20, 22, 19, 23, 24, 28, 26, 17, 25],\n",
    "    'Humidity': [32, 31, 30, 22, 17, 29, 32, 27, 20, 19],\n",
    "    'Wind': [12, 20, 8, 9, 30, 27, 22, 33, 37, 35],\n",
    "    'Precipitation':[17, 25, 20, 19, 18, 30, 28, 26, 29, 22]\n",
    "}\n",
    " \n",
    "df = pd.DataFrame(data)\n",
    " \n",
    "df.plot.area()\n",
    " \n",
    "plt.show()"
   ]
  },
  {
   "cell_type": "code",
   "execution_count": null,
   "id": "13eb6aba-5d42-4112-92f1-1f664604917f",
   "metadata": {},
   "outputs": [],
   "source": []
  }
 ],
 "metadata": {
  "kernelspec": {
   "display_name": "Python 3 (ipykernel)",
   "language": "python",
   "name": "python3"
  },
  "language_info": {
   "codemirror_mode": {
    "name": "ipython",
    "version": 3
   },
   "file_extension": ".py",
   "mimetype": "text/x-python",
   "name": "python",
   "nbconvert_exporter": "python",
   "pygments_lexer": "ipython3",
   "version": "3.12.4"
  }
 },
 "nbformat": 4,
 "nbformat_minor": 5
}
